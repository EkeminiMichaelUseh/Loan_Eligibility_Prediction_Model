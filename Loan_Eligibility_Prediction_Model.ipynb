{
 "cells": [
  {
   "cell_type": "markdown",
   "id": "0ae9760f",
   "metadata": {},
   "source": [
    "# Loan Eligibility Prediction Model using Machine Learning Algorithms"
   ]
  },
  {
   "cell_type": "markdown",
   "id": "78343f52",
   "metadata": {},
   "source": [
    "### 1. Importing the necessary libraries and the loan_data"
   ]
  },
  {
   "cell_type": "code",
   "execution_count": 1,
   "id": "e13b09ee",
   "metadata": {},
   "outputs": [],
   "source": [
    "# Importing the necessary libraries\n",
    "import pandas as pd # For data processing\n",
    "import numpy as np # Library to perform linear algebra\n",
    "import matplotlib.pyplot as plt # To create plots\n",
    "%matplotlib inline\n",
    "import seaborn as sns # For creating statistical graphs\n",
    "from scipy.stats import chi2_contingency\n"
   ]
  },
  {
   "cell_type": "code",
   "execution_count": 2,
   "id": "97484876",
   "metadata": {},
   "outputs": [],
   "source": [
    "# importing the dataset\n",
    "loan_data = pd.read_csv(\"C:/Users/HP/Desktop/portfolio_projects/Financial/Loan_prediction_models/loan_data.csv\")"
   ]
  },
  {
   "cell_type": "code",
   "execution_count": 3,
   "id": "e3f68c97",
   "metadata": {},
   "outputs": [
    {
     "data": {
      "text/html": [
       "<div>\n",
       "<style scoped>\n",
       "    .dataframe tbody tr th:only-of-type {\n",
       "        vertical-align: middle;\n",
       "    }\n",
       "\n",
       "    .dataframe tbody tr th {\n",
       "        vertical-align: top;\n",
       "    }\n",
       "\n",
       "    .dataframe thead th {\n",
       "        text-align: right;\n",
       "    }\n",
       "</style>\n",
       "<table border=\"1\" class=\"dataframe\">\n",
       "  <thead>\n",
       "    <tr style=\"text-align: right;\">\n",
       "      <th></th>\n",
       "      <th>Loan_ID</th>\n",
       "      <th>Gender</th>\n",
       "      <th>Married</th>\n",
       "      <th>Dependents</th>\n",
       "      <th>Education</th>\n",
       "      <th>Self_Employed</th>\n",
       "      <th>ApplicantIncome</th>\n",
       "      <th>CoapplicantIncome</th>\n",
       "      <th>LoanAmount</th>\n",
       "      <th>Loan_Amount_Term</th>\n",
       "      <th>Credit_History</th>\n",
       "      <th>Property_Area</th>\n",
       "      <th>Loan_Status</th>\n",
       "    </tr>\n",
       "  </thead>\n",
       "  <tbody>\n",
       "    <tr>\n",
       "      <th>0</th>\n",
       "      <td>LP001003</td>\n",
       "      <td>Male</td>\n",
       "      <td>Yes</td>\n",
       "      <td>1</td>\n",
       "      <td>Graduate</td>\n",
       "      <td>No</td>\n",
       "      <td>4583</td>\n",
       "      <td>1508.0</td>\n",
       "      <td>128</td>\n",
       "      <td>360.0</td>\n",
       "      <td>1.0</td>\n",
       "      <td>Rural</td>\n",
       "      <td>N</td>\n",
       "    </tr>\n",
       "    <tr>\n",
       "      <th>1</th>\n",
       "      <td>LP001005</td>\n",
       "      <td>Male</td>\n",
       "      <td>Yes</td>\n",
       "      <td>0</td>\n",
       "      <td>Graduate</td>\n",
       "      <td>Yes</td>\n",
       "      <td>3000</td>\n",
       "      <td>0.0</td>\n",
       "      <td>66</td>\n",
       "      <td>360.0</td>\n",
       "      <td>1.0</td>\n",
       "      <td>Urban</td>\n",
       "      <td>Y</td>\n",
       "    </tr>\n",
       "    <tr>\n",
       "      <th>2</th>\n",
       "      <td>LP001006</td>\n",
       "      <td>Male</td>\n",
       "      <td>Yes</td>\n",
       "      <td>0</td>\n",
       "      <td>Not Graduate</td>\n",
       "      <td>No</td>\n",
       "      <td>2583</td>\n",
       "      <td>2358.0</td>\n",
       "      <td>120</td>\n",
       "      <td>360.0</td>\n",
       "      <td>1.0</td>\n",
       "      <td>Urban</td>\n",
       "      <td>Y</td>\n",
       "    </tr>\n",
       "    <tr>\n",
       "      <th>3</th>\n",
       "      <td>LP001008</td>\n",
       "      <td>Male</td>\n",
       "      <td>No</td>\n",
       "      <td>0</td>\n",
       "      <td>Graduate</td>\n",
       "      <td>No</td>\n",
       "      <td>6000</td>\n",
       "      <td>0.0</td>\n",
       "      <td>141</td>\n",
       "      <td>360.0</td>\n",
       "      <td>1.0</td>\n",
       "      <td>Urban</td>\n",
       "      <td>Y</td>\n",
       "    </tr>\n",
       "    <tr>\n",
       "      <th>4</th>\n",
       "      <td>LP001013</td>\n",
       "      <td>Male</td>\n",
       "      <td>Yes</td>\n",
       "      <td>0</td>\n",
       "      <td>Not Graduate</td>\n",
       "      <td>No</td>\n",
       "      <td>2333</td>\n",
       "      <td>1516.0</td>\n",
       "      <td>95</td>\n",
       "      <td>360.0</td>\n",
       "      <td>1.0</td>\n",
       "      <td>Urban</td>\n",
       "      <td>Y</td>\n",
       "    </tr>\n",
       "  </tbody>\n",
       "</table>\n",
       "</div>"
      ],
      "text/plain": [
       "    Loan_ID Gender Married Dependents     Education Self_Employed  \\\n",
       "0  LP001003   Male     Yes          1      Graduate            No   \n",
       "1  LP001005   Male     Yes          0      Graduate           Yes   \n",
       "2  LP001006   Male     Yes          0  Not Graduate            No   \n",
       "3  LP001008   Male      No          0      Graduate            No   \n",
       "4  LP001013   Male     Yes          0  Not Graduate            No   \n",
       "\n",
       "   ApplicantIncome  CoapplicantIncome  LoanAmount  Loan_Amount_Term  \\\n",
       "0             4583             1508.0         128             360.0   \n",
       "1             3000                0.0          66             360.0   \n",
       "2             2583             2358.0         120             360.0   \n",
       "3             6000                0.0         141             360.0   \n",
       "4             2333             1516.0          95             360.0   \n",
       "\n",
       "   Credit_History Property_Area Loan_Status  \n",
       "0             1.0         Rural           N  \n",
       "1             1.0         Urban           Y  \n",
       "2             1.0         Urban           Y  \n",
       "3             1.0         Urban           Y  \n",
       "4             1.0         Urban           Y  "
      ]
     },
     "execution_count": 3,
     "metadata": {},
     "output_type": "execute_result"
    }
   ],
   "source": [
    "# Viewing the first five rows\n",
    "loan_data.head()"
   ]
  },
  {
   "cell_type": "code",
   "execution_count": 4,
   "id": "1fc9e5b2",
   "metadata": {},
   "outputs": [
    {
     "data": {
      "text/plain": [
       "Index(['Loan_ID', 'Gender', 'Married', 'Dependents', 'Education',\n",
       "       'Self_Employed', 'ApplicantIncome', 'CoapplicantIncome', 'LoanAmount',\n",
       "       'Loan_Amount_Term', 'Credit_History', 'Property_Area', 'Loan_Status'],\n",
       "      dtype='object')"
      ]
     },
     "execution_count": 4,
     "metadata": {},
     "output_type": "execute_result"
    }
   ],
   "source": [
    "loan_data.columns"
   ]
  },
  {
   "cell_type": "markdown",
   "id": "d6b3374c",
   "metadata": {},
   "source": [
    "#"
   ]
  },
  {
   "cell_type": "markdown",
   "id": "5ee596ef",
   "metadata": {},
   "source": [
    "### 2. Exploratory Data Analysis (EDA)"
   ]
  },
  {
   "cell_type": "markdown",
   "id": "39d0c1e2",
   "metadata": {},
   "source": [
    "### (a) Data Cleaning"
   ]
  },
  {
   "cell_type": "markdown",
   "id": "dd8ac6aa",
   "metadata": {},
   "source": [
    "#### 2.1 Extracting the shape of the dataset"
   ]
  },
  {
   "cell_type": "code",
   "execution_count": 5,
   "id": "9bd19ddf",
   "metadata": {},
   "outputs": [
    {
     "data": {
      "text/plain": [
       "(381, 13)"
      ]
     },
     "execution_count": 5,
     "metadata": {},
     "output_type": "execute_result"
    }
   ],
   "source": [
    "# Checking the shape of the dataset\n",
    "loan_data.shape"
   ]
  },
  {
   "cell_type": "markdown",
   "id": "f8655e76",
   "metadata": {},
   "source": [
    "#### 2.2 Checking the information on each column of the dataset"
   ]
  },
  {
   "cell_type": "code",
   "execution_count": 6,
   "id": "af0eef11",
   "metadata": {},
   "outputs": [
    {
     "name": "stdout",
     "output_type": "stream",
     "text": [
      "<class 'pandas.core.frame.DataFrame'>\n",
      "RangeIndex: 381 entries, 0 to 380\n",
      "Data columns (total 13 columns):\n",
      " #   Column             Non-Null Count  Dtype  \n",
      "---  ------             --------------  -----  \n",
      " 0   Loan_ID            381 non-null    object \n",
      " 1   Gender             376 non-null    object \n",
      " 2   Married            381 non-null    object \n",
      " 3   Dependents         373 non-null    object \n",
      " 4   Education          381 non-null    object \n",
      " 5   Self_Employed      360 non-null    object \n",
      " 6   ApplicantIncome    381 non-null    int64  \n",
      " 7   CoapplicantIncome  381 non-null    float64\n",
      " 8   LoanAmount         381 non-null    int64  \n",
      " 9   Loan_Amount_Term   370 non-null    float64\n",
      " 10  Credit_History     351 non-null    float64\n",
      " 11  Property_Area      381 non-null    object \n",
      " 12  Loan_Status        381 non-null    object \n",
      "dtypes: float64(3), int64(2), object(8)\n",
      "memory usage: 38.8+ KB\n"
     ]
    }
   ],
   "source": [
    "# Checking the information about the features of the dataset 'columns'\n",
    "loan_data.info()"
   ]
  },
  {
   "cell_type": "markdown",
   "id": "e31bf516",
   "metadata": {},
   "source": [
    "Data description\n",
    "1. The dataset is made up of 13 columns (features) and 381 rows (observations).\n",
    "2. It is a combination of numerical variables (numbers) and categorical variables (string). Eight categories and five numerical columns.\n",
    "3. 'ApplicantIncome', 'CoapplicantIncome', 'LoanAmount', 'Loan_Amount_Term', and 'Credit_History' are numeric.\n",
    "4. 'Loan_ID', 'Gender', 'Married', 'Dependents', 'Education', 'Self_Employed', 'Property_Area', 'Loan_Status' are categorical."
   ]
  },
  {
   "cell_type": "markdown",
   "id": "232b7c44",
   "metadata": {},
   "source": [
    "#### 2.3 Checking the number of null values in each column and duplicates"
   ]
  },
  {
   "cell_type": "code",
   "execution_count": 7,
   "id": "987ee7b5",
   "metadata": {},
   "outputs": [
    {
     "data": {
      "text/plain": [
       "Loan_ID               0\n",
       "Gender                5\n",
       "Married               0\n",
       "Dependents            8\n",
       "Education             0\n",
       "Self_Employed        21\n",
       "ApplicantIncome       0\n",
       "CoapplicantIncome     0\n",
       "LoanAmount            0\n",
       "Loan_Amount_Term     11\n",
       "Credit_History       30\n",
       "Property_Area         0\n",
       "Loan_Status           0\n",
       "dtype: int64"
      ]
     },
     "execution_count": 7,
     "metadata": {},
     "output_type": "execute_result"
    }
   ],
   "source": [
    "# Checking for the number of null values in each column\n",
    "loan_data.isna().sum()"
   ]
  },
  {
   "cell_type": "code",
   "execution_count": 8,
   "id": "bc32d66b",
   "metadata": {},
   "outputs": [
    {
     "data": {
      "text/plain": [
       "0"
      ]
     },
     "execution_count": 8,
     "metadata": {},
     "output_type": "execute_result"
    }
   ],
   "source": [
    "# Checking for duplicates\n",
    "loan_data.duplicated().sum()"
   ]
  },
  {
   "cell_type": "markdown",
   "id": "f97b8087",
   "metadata": {},
   "source": [
    "1. There are five (5) columns with null values. Gender - 5, Dependents - 8, Self_Employed - 21, Loan_Amount_Term - 11, Credit_History - 30.\n",
    "2. There were no duplicates rows in the dataset."
   ]
  },
  {
   "cell_type": "markdown",
   "id": "b2d0bfe5",
   "metadata": {},
   "source": [
    "#### 2.4 Deleting the Loan_ID column because it is not needed"
   ]
  },
  {
   "cell_type": "code",
   "execution_count": 9,
   "id": "76e1d533",
   "metadata": {},
   "outputs": [],
   "source": [
    "# Dropping the Loan_ID column\n",
    "loan_data = loan_data.drop('Loan_ID', axis=1)"
   ]
  },
  {
   "cell_type": "code",
   "execution_count": 10,
   "id": "10e30ac9",
   "metadata": {},
   "outputs": [
    {
     "data": {
      "text/html": [
       "<div>\n",
       "<style scoped>\n",
       "    .dataframe tbody tr th:only-of-type {\n",
       "        vertical-align: middle;\n",
       "    }\n",
       "\n",
       "    .dataframe tbody tr th {\n",
       "        vertical-align: top;\n",
       "    }\n",
       "\n",
       "    .dataframe thead th {\n",
       "        text-align: right;\n",
       "    }\n",
       "</style>\n",
       "<table border=\"1\" class=\"dataframe\">\n",
       "  <thead>\n",
       "    <tr style=\"text-align: right;\">\n",
       "      <th></th>\n",
       "      <th>Gender</th>\n",
       "      <th>Married</th>\n",
       "      <th>Dependents</th>\n",
       "      <th>Education</th>\n",
       "      <th>Self_Employed</th>\n",
       "      <th>ApplicantIncome</th>\n",
       "      <th>CoapplicantIncome</th>\n",
       "      <th>LoanAmount</th>\n",
       "      <th>Loan_Amount_Term</th>\n",
       "      <th>Credit_History</th>\n",
       "      <th>Property_Area</th>\n",
       "      <th>Loan_Status</th>\n",
       "    </tr>\n",
       "  </thead>\n",
       "  <tbody>\n",
       "    <tr>\n",
       "      <th>0</th>\n",
       "      <td>Male</td>\n",
       "      <td>Yes</td>\n",
       "      <td>1</td>\n",
       "      <td>Graduate</td>\n",
       "      <td>No</td>\n",
       "      <td>4583</td>\n",
       "      <td>1508.0</td>\n",
       "      <td>128</td>\n",
       "      <td>360.0</td>\n",
       "      <td>1.0</td>\n",
       "      <td>Rural</td>\n",
       "      <td>N</td>\n",
       "    </tr>\n",
       "    <tr>\n",
       "      <th>1</th>\n",
       "      <td>Male</td>\n",
       "      <td>Yes</td>\n",
       "      <td>0</td>\n",
       "      <td>Graduate</td>\n",
       "      <td>Yes</td>\n",
       "      <td>3000</td>\n",
       "      <td>0.0</td>\n",
       "      <td>66</td>\n",
       "      <td>360.0</td>\n",
       "      <td>1.0</td>\n",
       "      <td>Urban</td>\n",
       "      <td>Y</td>\n",
       "    </tr>\n",
       "    <tr>\n",
       "      <th>2</th>\n",
       "      <td>Male</td>\n",
       "      <td>Yes</td>\n",
       "      <td>0</td>\n",
       "      <td>Not Graduate</td>\n",
       "      <td>No</td>\n",
       "      <td>2583</td>\n",
       "      <td>2358.0</td>\n",
       "      <td>120</td>\n",
       "      <td>360.0</td>\n",
       "      <td>1.0</td>\n",
       "      <td>Urban</td>\n",
       "      <td>Y</td>\n",
       "    </tr>\n",
       "    <tr>\n",
       "      <th>3</th>\n",
       "      <td>Male</td>\n",
       "      <td>No</td>\n",
       "      <td>0</td>\n",
       "      <td>Graduate</td>\n",
       "      <td>No</td>\n",
       "      <td>6000</td>\n",
       "      <td>0.0</td>\n",
       "      <td>141</td>\n",
       "      <td>360.0</td>\n",
       "      <td>1.0</td>\n",
       "      <td>Urban</td>\n",
       "      <td>Y</td>\n",
       "    </tr>\n",
       "    <tr>\n",
       "      <th>4</th>\n",
       "      <td>Male</td>\n",
       "      <td>Yes</td>\n",
       "      <td>0</td>\n",
       "      <td>Not Graduate</td>\n",
       "      <td>No</td>\n",
       "      <td>2333</td>\n",
       "      <td>1516.0</td>\n",
       "      <td>95</td>\n",
       "      <td>360.0</td>\n",
       "      <td>1.0</td>\n",
       "      <td>Urban</td>\n",
       "      <td>Y</td>\n",
       "    </tr>\n",
       "  </tbody>\n",
       "</table>\n",
       "</div>"
      ],
      "text/plain": [
       "  Gender Married Dependents     Education Self_Employed  ApplicantIncome  \\\n",
       "0   Male     Yes          1      Graduate            No             4583   \n",
       "1   Male     Yes          0      Graduate           Yes             3000   \n",
       "2   Male     Yes          0  Not Graduate            No             2583   \n",
       "3   Male      No          0      Graduate            No             6000   \n",
       "4   Male     Yes          0  Not Graduate            No             2333   \n",
       "\n",
       "   CoapplicantIncome  LoanAmount  Loan_Amount_Term  Credit_History  \\\n",
       "0             1508.0         128             360.0             1.0   \n",
       "1                0.0          66             360.0             1.0   \n",
       "2             2358.0         120             360.0             1.0   \n",
       "3                0.0         141             360.0             1.0   \n",
       "4             1516.0          95             360.0             1.0   \n",
       "\n",
       "  Property_Area Loan_Status  \n",
       "0         Rural           N  \n",
       "1         Urban           Y  \n",
       "2         Urban           Y  \n",
       "3         Urban           Y  \n",
       "4         Urban           Y  "
      ]
     },
     "execution_count": 10,
     "metadata": {},
     "output_type": "execute_result"
    }
   ],
   "source": [
    "# Viewing if the loan_id column was dropped\n",
    "loan_data.head()"
   ]
  },
  {
   "cell_type": "markdown",
   "id": "a104b410",
   "metadata": {},
   "source": [
    "#### 2.5 Checking for wrong values in the dataset"
   ]
  },
  {
   "cell_type": "code",
   "execution_count": 11,
   "id": "9e4ee5db",
   "metadata": {},
   "outputs": [
    {
     "data": {
      "text/html": [
       "<div>\n",
       "<style scoped>\n",
       "    .dataframe tbody tr th:only-of-type {\n",
       "        vertical-align: middle;\n",
       "    }\n",
       "\n",
       "    .dataframe tbody tr th {\n",
       "        vertical-align: top;\n",
       "    }\n",
       "\n",
       "    .dataframe thead th {\n",
       "        text-align: right;\n",
       "    }\n",
       "</style>\n",
       "<table border=\"1\" class=\"dataframe\">\n",
       "  <thead>\n",
       "    <tr style=\"text-align: right;\">\n",
       "      <th></th>\n",
       "      <th>ApplicantIncome</th>\n",
       "      <th>CoapplicantIncome</th>\n",
       "      <th>LoanAmount</th>\n",
       "      <th>Loan_Amount_Term</th>\n",
       "      <th>Credit_History</th>\n",
       "    </tr>\n",
       "  </thead>\n",
       "  <tbody>\n",
       "    <tr>\n",
       "      <th>count</th>\n",
       "      <td>381.000000</td>\n",
       "      <td>381.000000</td>\n",
       "      <td>381.000000</td>\n",
       "      <td>370.000000</td>\n",
       "      <td>351.000000</td>\n",
       "    </tr>\n",
       "    <tr>\n",
       "      <th>mean</th>\n",
       "      <td>3579.845144</td>\n",
       "      <td>1277.275381</td>\n",
       "      <td>104.986877</td>\n",
       "      <td>340.864865</td>\n",
       "      <td>0.837607</td>\n",
       "    </tr>\n",
       "    <tr>\n",
       "      <th>std</th>\n",
       "      <td>1419.813818</td>\n",
       "      <td>2340.818114</td>\n",
       "      <td>28.358464</td>\n",
       "      <td>68.549257</td>\n",
       "      <td>0.369338</td>\n",
       "    </tr>\n",
       "    <tr>\n",
       "      <th>min</th>\n",
       "      <td>150.000000</td>\n",
       "      <td>0.000000</td>\n",
       "      <td>9.000000</td>\n",
       "      <td>12.000000</td>\n",
       "      <td>0.000000</td>\n",
       "    </tr>\n",
       "    <tr>\n",
       "      <th>25%</th>\n",
       "      <td>2600.000000</td>\n",
       "      <td>0.000000</td>\n",
       "      <td>90.000000</td>\n",
       "      <td>360.000000</td>\n",
       "      <td>1.000000</td>\n",
       "    </tr>\n",
       "    <tr>\n",
       "      <th>50%</th>\n",
       "      <td>3333.000000</td>\n",
       "      <td>983.000000</td>\n",
       "      <td>110.000000</td>\n",
       "      <td>360.000000</td>\n",
       "      <td>1.000000</td>\n",
       "    </tr>\n",
       "    <tr>\n",
       "      <th>75%</th>\n",
       "      <td>4288.000000</td>\n",
       "      <td>2016.000000</td>\n",
       "      <td>127.000000</td>\n",
       "      <td>360.000000</td>\n",
       "      <td>1.000000</td>\n",
       "    </tr>\n",
       "    <tr>\n",
       "      <th>max</th>\n",
       "      <td>9703.000000</td>\n",
       "      <td>33837.000000</td>\n",
       "      <td>150.000000</td>\n",
       "      <td>480.000000</td>\n",
       "      <td>1.000000</td>\n",
       "    </tr>\n",
       "  </tbody>\n",
       "</table>\n",
       "</div>"
      ],
      "text/plain": [
       "       ApplicantIncome  CoapplicantIncome  LoanAmount  Loan_Amount_Term  \\\n",
       "count       381.000000         381.000000  381.000000        370.000000   \n",
       "mean       3579.845144        1277.275381  104.986877        340.864865   \n",
       "std        1419.813818        2340.818114   28.358464         68.549257   \n",
       "min         150.000000           0.000000    9.000000         12.000000   \n",
       "25%        2600.000000           0.000000   90.000000        360.000000   \n",
       "50%        3333.000000         983.000000  110.000000        360.000000   \n",
       "75%        4288.000000        2016.000000  127.000000        360.000000   \n",
       "max        9703.000000       33837.000000  150.000000        480.000000   \n",
       "\n",
       "       Credit_History  \n",
       "count      351.000000  \n",
       "mean         0.837607  \n",
       "std          0.369338  \n",
       "min          0.000000  \n",
       "25%          1.000000  \n",
       "50%          1.000000  \n",
       "75%          1.000000  \n",
       "max          1.000000  "
      ]
     },
     "execution_count": 11,
     "metadata": {},
     "output_type": "execute_result"
    }
   ],
   "source": [
    "# Checking for summary statistics of the numerical columns\n",
    "loan_data.describe()"
   ]
  },
  {
   "cell_type": "markdown",
   "id": "38def3ff",
   "metadata": {},
   "source": [
    "Summary statistics\n",
    "1. A loan applicant with the least income earns 150,000 while the highest income an applicant earns is 9,703,000. The average amount earned by the loan applicants is 3,579,845.\n",
    "2. The minimum earnings of the coapplicants is 0. This is because some applicants have no coapplicants. The highest earnings of a coapplicant is 33,837,000. The average earnings of the coapplicants is 1,277,275.\n",
    "3. The least loan amount applied for is 9,000 while the highset loan amount is 150,000.\n",
    "4. Loan_Amount_Term and Credit_History qualifies to be categories."
   ]
  },
  {
   "cell_type": "code",
   "execution_count": 12,
   "id": "7a96149f",
   "metadata": {},
   "outputs": [
    {
     "data": {
      "text/plain": [
       "Gender                 2\n",
       "Married                2\n",
       "Dependents             4\n",
       "Education              2\n",
       "Self_Employed          2\n",
       "ApplicantIncome      322\n",
       "CoapplicantIncome    182\n",
       "LoanAmount           101\n",
       "Loan_Amount_Term      10\n",
       "Credit_History         2\n",
       "Property_Area          3\n",
       "Loan_Status            2\n",
       "dtype: int64"
      ]
     },
     "execution_count": 12,
     "metadata": {},
     "output_type": "execute_result"
    }
   ],
   "source": [
    "# Checking for number of unique values in each column of the dataset\n",
    "loan_data.nunique()"
   ]
  },
  {
   "cell_type": "code",
   "execution_count": 13,
   "id": "a3e03e59",
   "metadata": {},
   "outputs": [
    {
     "data": {
      "text/plain": [
       "array(['Male', 'Female', nan], dtype=object)"
      ]
     },
     "execution_count": 13,
     "metadata": {},
     "output_type": "execute_result"
    }
   ],
   "source": [
    "# Checking for wrong values in the gender column\n",
    "loan_data['Gender'].unique()"
   ]
  },
  {
   "cell_type": "code",
   "execution_count": 14,
   "id": "2f37beaf",
   "metadata": {},
   "outputs": [
    {
     "data": {
      "text/plain": [
       "array(['Yes', 'No'], dtype=object)"
      ]
     },
     "execution_count": 14,
     "metadata": {},
     "output_type": "execute_result"
    }
   ],
   "source": [
    "# Checking for wrong values in the married column\n",
    "loan_data['Married'].unique()"
   ]
  },
  {
   "cell_type": "code",
   "execution_count": 15,
   "id": "00a928ee",
   "metadata": {},
   "outputs": [
    {
     "data": {
      "text/plain": [
       "array(['1', '0', '2', '3+', nan], dtype=object)"
      ]
     },
     "execution_count": 15,
     "metadata": {},
     "output_type": "execute_result"
    }
   ],
   "source": [
    "# Checking for wrong values in the dependents column\n",
    "loan_data['Dependents'].unique()"
   ]
  },
  {
   "cell_type": "code",
   "execution_count": 16,
   "id": "ca93d556",
   "metadata": {},
   "outputs": [
    {
     "data": {
      "text/plain": [
       "array(['Graduate', 'Not Graduate'], dtype=object)"
      ]
     },
     "execution_count": 16,
     "metadata": {},
     "output_type": "execute_result"
    }
   ],
   "source": [
    "# Checking for wrong values in the education column\n",
    "loan_data['Education'].unique()"
   ]
  },
  {
   "cell_type": "code",
   "execution_count": 17,
   "id": "f385a90b",
   "metadata": {},
   "outputs": [
    {
     "data": {
      "text/plain": [
       "array(['No', 'Yes', nan], dtype=object)"
      ]
     },
     "execution_count": 17,
     "metadata": {},
     "output_type": "execute_result"
    }
   ],
   "source": [
    "# Checking for wrong values in the self_employed column\n",
    "loan_data['Self_Employed'].unique()"
   ]
  },
  {
   "cell_type": "code",
   "execution_count": 18,
   "id": "82d01bdc",
   "metadata": {},
   "outputs": [
    {
     "data": {
      "text/plain": [
       "array([360., 120., 240.,  nan, 180.,  60., 300., 480.,  84.,  12.,  36.])"
      ]
     },
     "execution_count": 18,
     "metadata": {},
     "output_type": "execute_result"
    }
   ],
   "source": [
    "# Checking for wrong values in the loan amount term column\n",
    "loan_data['Loan_Amount_Term'].unique()"
   ]
  },
  {
   "cell_type": "code",
   "execution_count": 19,
   "id": "d8132517",
   "metadata": {},
   "outputs": [
    {
     "data": {
      "text/plain": [
       "array([ 1., nan,  0.])"
      ]
     },
     "execution_count": 19,
     "metadata": {},
     "output_type": "execute_result"
    }
   ],
   "source": [
    "# Checking for wrong values in the credit history column\n",
    "loan_data['Credit_History'].unique()"
   ]
  },
  {
   "cell_type": "code",
   "execution_count": 20,
   "id": "93aee191",
   "metadata": {},
   "outputs": [
    {
     "data": {
      "text/plain": [
       "array(['Rural', 'Urban', 'Semiurban'], dtype=object)"
      ]
     },
     "execution_count": 20,
     "metadata": {},
     "output_type": "execute_result"
    }
   ],
   "source": [
    "# Checking for wrong values in the property area column\n",
    "loan_data['Property_Area'].unique()"
   ]
  },
  {
   "cell_type": "code",
   "execution_count": 21,
   "id": "81f2a8ee",
   "metadata": {},
   "outputs": [
    {
     "data": {
      "text/plain": [
       "array(['N', 'Y'], dtype=object)"
      ]
     },
     "execution_count": 21,
     "metadata": {},
     "output_type": "execute_result"
    }
   ],
   "source": [
    "# Checking for wrong values in the loan status column\n",
    "loan_data['Loan_Status'].unique()"
   ]
  },
  {
   "cell_type": "markdown",
   "id": "b7da168b",
   "metadata": {},
   "source": [
    "Some categorical variables have wrong data and null values. The Dependent variable contains wrong values '+3' and null values as well while Loan_Amount_Term has null valus and needs to be changed to a categorical column. Credit_History needs to be a category."
   ]
  },
  {
   "cell_type": "markdown",
   "id": "cf6c4dfc",
   "metadata": {},
   "source": [
    "#### 2.6 Removing null values from the 'Gender', 'Dependents', 'Self_Employed', 'Loan_Amount_Term', and 'Credit_History' columns"
   ]
  },
  {
   "cell_type": "code",
   "execution_count": 22,
   "id": "e845b00a",
   "metadata": {},
   "outputs": [
    {
     "data": {
      "text/plain": [
       "0    Male\n",
       "Name: Gender, dtype: object"
      ]
     },
     "execution_count": 22,
     "metadata": {},
     "output_type": "execute_result"
    }
   ],
   "source": [
    "# Finding the mode of the gender column\n",
    "loan_data['Gender'].mode()\n"
   ]
  },
  {
   "cell_type": "code",
   "execution_count": 23,
   "id": "82434b46",
   "metadata": {},
   "outputs": [
    {
     "name": "stdout",
     "output_type": "stream",
     "text": [
      "Categories in 'Gender' variable:   ['Male' 'Female']\n"
     ]
    }
   ],
   "source": [
    "# Filling the gender null values with the mode of the gender\n",
    "loan_data['Gender'].fillna('Male', inplace = True)\n",
    "\n",
    "# Checking if this was implemented correctly\n",
    "print(\"Categories in 'Gender' variable:  \", end=\" \")\n",
    "print(loan_data['Gender'].unique())"
   ]
  },
  {
   "cell_type": "code",
   "execution_count": 24,
   "id": "b2ac0480",
   "metadata": {},
   "outputs": [
    {
     "data": {
      "text/plain": [
       "0    0\n",
       "Name: Dependents, dtype: object"
      ]
     },
     "execution_count": 24,
     "metadata": {},
     "output_type": "execute_result"
    }
   ],
   "source": [
    "# Finding the mode of the dependents column\n",
    "loan_data['Dependents'].mode()"
   ]
  },
  {
   "cell_type": "code",
   "execution_count": 25,
   "id": "07c6aa21",
   "metadata": {},
   "outputs": [],
   "source": [
    "# Filling the gender null values with the mode of the dependents\n",
    "loan_data['Dependents'].fillna('0', inplace = True)"
   ]
  },
  {
   "cell_type": "code",
   "execution_count": 26,
   "id": "ab01fbae",
   "metadata": {},
   "outputs": [
    {
     "name": "stdout",
     "output_type": "stream",
     "text": [
      "Categories in 'Dependents' variable:   ['1' '0' '2' '3']\n"
     ]
    }
   ],
   "source": [
    "# Correcting the wrong value in dependents column\n",
    "loan_data['Dependents'].replace('3+', '3', inplace = True)\n",
    "\n",
    "# Checking if this was implemented correctly\n",
    "print(\"Categories in 'Dependents' variable:  \", end=\" \")\n",
    "print(loan_data['Dependents'].unique())"
   ]
  },
  {
   "cell_type": "code",
   "execution_count": 27,
   "id": "0bdc9987",
   "metadata": {},
   "outputs": [
    {
     "data": {
      "text/plain": [
       "0    No\n",
       "Name: Self_Employed, dtype: object"
      ]
     },
     "execution_count": 27,
     "metadata": {},
     "output_type": "execute_result"
    }
   ],
   "source": [
    "# Finding the mode of the self employed column\n",
    "loan_data['Self_Employed'].mode()"
   ]
  },
  {
   "cell_type": "code",
   "execution_count": 28,
   "id": "71b83236",
   "metadata": {},
   "outputs": [
    {
     "name": "stdout",
     "output_type": "stream",
     "text": [
      "Categories in 'Self_Employed' variable:   ['No' 'Yes']\n"
     ]
    }
   ],
   "source": [
    "# Filling the gender null values with the mode of the self employed\n",
    "loan_data['Self_Employed'].fillna('No', inplace = True)\n",
    "\n",
    "# Checking if this was implemented correctly\n",
    "print(\"Categories in 'Self_Employed' variable:  \", end=\" \")\n",
    "print(loan_data['Self_Employed'].unique())"
   ]
  },
  {
   "cell_type": "code",
   "execution_count": 29,
   "id": "6a72cfa0",
   "metadata": {},
   "outputs": [
    {
     "data": {
      "text/plain": [
       "0    360.0\n",
       "Name: Loan_Amount_Term, dtype: float64"
      ]
     },
     "execution_count": 29,
     "metadata": {},
     "output_type": "execute_result"
    }
   ],
   "source": [
    "# Finding the mode of the loan amount term column\n",
    "loan_data['Loan_Amount_Term'].mode()"
   ]
  },
  {
   "cell_type": "code",
   "execution_count": 30,
   "id": "fb8ee9db",
   "metadata": {},
   "outputs": [
    {
     "name": "stdout",
     "output_type": "stream",
     "text": [
      "Categories in 'Loan_Amount_Term' variable:   [360. 120. 240. 180.  60. 300. 480.  84.  12.  36.]\n"
     ]
    }
   ],
   "source": [
    "# Filling the gender null values with the mode of the loan amount term\n",
    "loan_data['Loan_Amount_Term'].fillna(360.0, inplace = True)\n",
    "\n",
    "# Checking if this was implemented correctly\n",
    "print(\"Categories in 'Loan_Amount_Term' variable:  \", end=\" \")\n",
    "print(loan_data['Loan_Amount_Term'].unique())"
   ]
  },
  {
   "cell_type": "code",
   "execution_count": 31,
   "id": "753761a7",
   "metadata": {},
   "outputs": [],
   "source": [
    "# Converting loan amount term to integer\n",
    "loan_data['Loan_Amount_Term'] = loan_data['Loan_Amount_Term'].astype('int64')"
   ]
  },
  {
   "cell_type": "code",
   "execution_count": 32,
   "id": "66089433",
   "metadata": {},
   "outputs": [
    {
     "data": {
      "text/plain": [
       "0    360\n",
       "1    360\n",
       "2    360\n",
       "3    360\n",
       "4    360\n",
       "Name: Loan_Amount_Term, dtype: int64"
      ]
     },
     "execution_count": 32,
     "metadata": {},
     "output_type": "execute_result"
    }
   ],
   "source": [
    "loan_data['Loan_Amount_Term'].head()"
   ]
  },
  {
   "cell_type": "code",
   "execution_count": 33,
   "id": "bdb2de0f",
   "metadata": {},
   "outputs": [
    {
     "data": {
      "text/plain": [
       "0    1.0\n",
       "Name: Credit_History, dtype: float64"
      ]
     },
     "execution_count": 33,
     "metadata": {},
     "output_type": "execute_result"
    }
   ],
   "source": [
    "# Finding the mode of the credit history column\n",
    "loan_data['Credit_History'].mode()"
   ]
  },
  {
   "cell_type": "code",
   "execution_count": 34,
   "id": "dfa8de4d",
   "metadata": {},
   "outputs": [
    {
     "name": "stdout",
     "output_type": "stream",
     "text": [
      "Categories in 'Credit_History' variable:   [1. 0.]\n"
     ]
    }
   ],
   "source": [
    "# Filling the gender null values with the mode of the credit history\n",
    "loan_data['Credit_History'].fillna(1.0, inplace = True)\n",
    "\n",
    "# Checking if this was implemented correctly\n",
    "print(\"Categories in 'Credit_History' variable:  \", end=\" \")\n",
    "print(loan_data['Credit_History'].unique())"
   ]
  },
  {
   "cell_type": "code",
   "execution_count": 35,
   "id": "cce4210b",
   "metadata": {},
   "outputs": [],
   "source": [
    "# Converting Credit History to integer\n",
    "loan_data['Credit_History'] = loan_data['Credit_History'].astype('int64')"
   ]
  },
  {
   "cell_type": "markdown",
   "id": "17be6da4",
   "metadata": {},
   "source": [
    "The variables with null values are filled with the most occuring values of each column."
   ]
  },
  {
   "cell_type": "markdown",
   "id": "d697b8b2",
   "metadata": {},
   "source": [
    "#### 2.7 Changing 'Loan_Amount_Term' and 'Credit_History' columns to categorical because they serve as categories"
   ]
  },
  {
   "cell_type": "code",
   "execution_count": 36,
   "id": "258f42aa",
   "metadata": {},
   "outputs": [
    {
     "data": {
      "text/plain": [
       "array(['360', '120', '240', '180', '60', '300', '480', '84', '12', '36'],\n",
       "      dtype=object)"
      ]
     },
     "execution_count": 36,
     "metadata": {},
     "output_type": "execute_result"
    }
   ],
   "source": [
    "# Converting loan amount term to object data type\n",
    "loan_data['Loan_Amount_Term'] = loan_data['Loan_Amount_Term'].astype(str)\n",
    "\n",
    "# Viewing the unique values of the column\n",
    "loan_data['Loan_Amount_Term'].unique()"
   ]
  },
  {
   "cell_type": "code",
   "execution_count": 37,
   "id": "ca2b7610",
   "metadata": {},
   "outputs": [
    {
     "data": {
      "text/plain": [
       "array(['1', '0'], dtype=object)"
      ]
     },
     "execution_count": 37,
     "metadata": {},
     "output_type": "execute_result"
    }
   ],
   "source": [
    "# Converting credit history to object data type\n",
    "loan_data['Credit_History'] = loan_data['Credit_History'].astype(str)\n",
    "\n",
    "# Viewing the unique values of the column\n",
    "loan_data['Credit_History'].unique()"
   ]
  },
  {
   "cell_type": "markdown",
   "id": "d4a79497",
   "metadata": {},
   "source": [
    "#### 2.8 Replacing the values of 'Credit_History' and 'Loan_Status' for easy understanding"
   ]
  },
  {
   "cell_type": "code",
   "execution_count": 38,
   "id": "211fba9d",
   "metadata": {},
   "outputs": [],
   "source": [
    "# Replacing the values in credit history column\n",
    "loan_data['Credit_History'].replace('1', 'Good loan history', inplace = True)\n",
    "\n",
    "loan_data['Credit_History'].replace('0', 'Bad loan history', inplace = True)"
   ]
  },
  {
   "cell_type": "code",
   "execution_count": 39,
   "id": "6f0bfa56",
   "metadata": {},
   "outputs": [],
   "source": [
    "# Replacing the values in Loan status column\n",
    "loan_data['Loan_Status'].replace('Y', 'Granted', inplace = True)\n",
    "\n",
    "loan_data['Loan_Status'].replace('N', 'Declined', inplace = True)"
   ]
  },
  {
   "cell_type": "markdown",
   "id": "90fe0904",
   "metadata": {},
   "source": [
    "The categories with codes or labels are replaced with more descriptive words. \n",
    "1. Credit_History of 1 is changed to 'Has loan history' while 0 is change to No loan history.\n",
    "2. Loan_Status of Y is changed to Granted while N changed to Declined."
   ]
  },
  {
   "cell_type": "code",
   "execution_count": 40,
   "id": "1b572059",
   "metadata": {},
   "outputs": [
    {
     "name": "stdout",
     "output_type": "stream",
     "text": [
      "There are 3 numerical features : ['ApplicantIncome', 'CoapplicantIncome', 'LoanAmount']\n",
      "There are 9 categorical features : ['Gender', 'Married', 'Dependents', 'Education', 'Self_Employed', 'Loan_Amount_Term', 'Credit_History', 'Property_Area', 'Loan_Status']\n"
     ]
    }
   ],
   "source": [
    "# Checking the number of numerical and categorical columns\n",
    "\n",
    "# Defining the numerical and categorical features in the loan_data dataset\n",
    "numerical_features = [feature for feature in loan_data.columns if loan_data[feature].dtype != 'O']\n",
    "cate_features = [feature for feature in loan_data.columns if loan_data[feature].dtype == 'O']\n",
    "\n",
    "# Printing the result\n",
    "print('There are {} numerical features : {}'.format(len(numerical_features), numerical_features))\n",
    "print('There are {} categorical features : {}'.format(len(cate_features), cate_features))"
   ]
  },
  {
   "cell_type": "code",
   "execution_count": 41,
   "id": "2eba3573",
   "metadata": {},
   "outputs": [
    {
     "data": {
      "text/plain": [
       "Gender               0\n",
       "Married              0\n",
       "Dependents           0\n",
       "Education            0\n",
       "Self_Employed        0\n",
       "ApplicantIncome      0\n",
       "CoapplicantIncome    0\n",
       "LoanAmount           0\n",
       "Loan_Amount_Term     0\n",
       "Credit_History       0\n",
       "Property_Area        0\n",
       "Loan_Status          0\n",
       "dtype: int64"
      ]
     },
     "execution_count": 41,
     "metadata": {},
     "output_type": "execute_result"
    }
   ],
   "source": [
    "# Checking for the number of null values in each column\n",
    "loan_data.isna().sum()"
   ]
  },
  {
   "cell_type": "markdown",
   "id": "29f4474f",
   "metadata": {},
   "source": [
    "After the data clening process, there were no null values."
   ]
  },
  {
   "cell_type": "markdown",
   "id": "5617534c",
   "metadata": {},
   "source": [
    "### (b) Insight Extraction"
   ]
  },
  {
   "cell_type": "markdown",
   "id": "87b39627",
   "metadata": {},
   "source": [
    "#### 2.9 Viewing the cleaned dataset"
   ]
  },
  {
   "cell_type": "code",
   "execution_count": 42,
   "id": "55fd1cba",
   "metadata": {
    "scrolled": true
   },
   "outputs": [
    {
     "data": {
      "text/html": [
       "<div>\n",
       "<style scoped>\n",
       "    .dataframe tbody tr th:only-of-type {\n",
       "        vertical-align: middle;\n",
       "    }\n",
       "\n",
       "    .dataframe tbody tr th {\n",
       "        vertical-align: top;\n",
       "    }\n",
       "\n",
       "    .dataframe thead th {\n",
       "        text-align: right;\n",
       "    }\n",
       "</style>\n",
       "<table border=\"1\" class=\"dataframe\">\n",
       "  <thead>\n",
       "    <tr style=\"text-align: right;\">\n",
       "      <th></th>\n",
       "      <th>Gender</th>\n",
       "      <th>Married</th>\n",
       "      <th>Dependents</th>\n",
       "      <th>Education</th>\n",
       "      <th>Self_Employed</th>\n",
       "      <th>ApplicantIncome</th>\n",
       "      <th>CoapplicantIncome</th>\n",
       "      <th>LoanAmount</th>\n",
       "      <th>Loan_Amount_Term</th>\n",
       "      <th>Credit_History</th>\n",
       "      <th>Property_Area</th>\n",
       "      <th>Loan_Status</th>\n",
       "    </tr>\n",
       "  </thead>\n",
       "  <tbody>\n",
       "    <tr>\n",
       "      <th>0</th>\n",
       "      <td>Male</td>\n",
       "      <td>Yes</td>\n",
       "      <td>1</td>\n",
       "      <td>Graduate</td>\n",
       "      <td>No</td>\n",
       "      <td>4583</td>\n",
       "      <td>1508.0</td>\n",
       "      <td>128</td>\n",
       "      <td>360</td>\n",
       "      <td>Good loan history</td>\n",
       "      <td>Rural</td>\n",
       "      <td>Declined</td>\n",
       "    </tr>\n",
       "    <tr>\n",
       "      <th>1</th>\n",
       "      <td>Male</td>\n",
       "      <td>Yes</td>\n",
       "      <td>0</td>\n",
       "      <td>Graduate</td>\n",
       "      <td>Yes</td>\n",
       "      <td>3000</td>\n",
       "      <td>0.0</td>\n",
       "      <td>66</td>\n",
       "      <td>360</td>\n",
       "      <td>Good loan history</td>\n",
       "      <td>Urban</td>\n",
       "      <td>Granted</td>\n",
       "    </tr>\n",
       "    <tr>\n",
       "      <th>2</th>\n",
       "      <td>Male</td>\n",
       "      <td>Yes</td>\n",
       "      <td>0</td>\n",
       "      <td>Not Graduate</td>\n",
       "      <td>No</td>\n",
       "      <td>2583</td>\n",
       "      <td>2358.0</td>\n",
       "      <td>120</td>\n",
       "      <td>360</td>\n",
       "      <td>Good loan history</td>\n",
       "      <td>Urban</td>\n",
       "      <td>Granted</td>\n",
       "    </tr>\n",
       "    <tr>\n",
       "      <th>3</th>\n",
       "      <td>Male</td>\n",
       "      <td>No</td>\n",
       "      <td>0</td>\n",
       "      <td>Graduate</td>\n",
       "      <td>No</td>\n",
       "      <td>6000</td>\n",
       "      <td>0.0</td>\n",
       "      <td>141</td>\n",
       "      <td>360</td>\n",
       "      <td>Good loan history</td>\n",
       "      <td>Urban</td>\n",
       "      <td>Granted</td>\n",
       "    </tr>\n",
       "    <tr>\n",
       "      <th>4</th>\n",
       "      <td>Male</td>\n",
       "      <td>Yes</td>\n",
       "      <td>0</td>\n",
       "      <td>Not Graduate</td>\n",
       "      <td>No</td>\n",
       "      <td>2333</td>\n",
       "      <td>1516.0</td>\n",
       "      <td>95</td>\n",
       "      <td>360</td>\n",
       "      <td>Good loan history</td>\n",
       "      <td>Urban</td>\n",
       "      <td>Granted</td>\n",
       "    </tr>\n",
       "    <tr>\n",
       "      <th>5</th>\n",
       "      <td>Male</td>\n",
       "      <td>Yes</td>\n",
       "      <td>2</td>\n",
       "      <td>Graduate</td>\n",
       "      <td>No</td>\n",
       "      <td>3200</td>\n",
       "      <td>700.0</td>\n",
       "      <td>70</td>\n",
       "      <td>360</td>\n",
       "      <td>Good loan history</td>\n",
       "      <td>Urban</td>\n",
       "      <td>Granted</td>\n",
       "    </tr>\n",
       "    <tr>\n",
       "      <th>6</th>\n",
       "      <td>Male</td>\n",
       "      <td>Yes</td>\n",
       "      <td>2</td>\n",
       "      <td>Graduate</td>\n",
       "      <td>No</td>\n",
       "      <td>2500</td>\n",
       "      <td>1840.0</td>\n",
       "      <td>109</td>\n",
       "      <td>360</td>\n",
       "      <td>Good loan history</td>\n",
       "      <td>Urban</td>\n",
       "      <td>Granted</td>\n",
       "    </tr>\n",
       "    <tr>\n",
       "      <th>7</th>\n",
       "      <td>Male</td>\n",
       "      <td>No</td>\n",
       "      <td>0</td>\n",
       "      <td>Graduate</td>\n",
       "      <td>No</td>\n",
       "      <td>1853</td>\n",
       "      <td>2840.0</td>\n",
       "      <td>114</td>\n",
       "      <td>360</td>\n",
       "      <td>Good loan history</td>\n",
       "      <td>Rural</td>\n",
       "      <td>Declined</td>\n",
       "    </tr>\n",
       "    <tr>\n",
       "      <th>8</th>\n",
       "      <td>Male</td>\n",
       "      <td>Yes</td>\n",
       "      <td>2</td>\n",
       "      <td>Graduate</td>\n",
       "      <td>No</td>\n",
       "      <td>1299</td>\n",
       "      <td>1086.0</td>\n",
       "      <td>17</td>\n",
       "      <td>120</td>\n",
       "      <td>Good loan history</td>\n",
       "      <td>Urban</td>\n",
       "      <td>Granted</td>\n",
       "    </tr>\n",
       "    <tr>\n",
       "      <th>9</th>\n",
       "      <td>Male</td>\n",
       "      <td>No</td>\n",
       "      <td>0</td>\n",
       "      <td>Graduate</td>\n",
       "      <td>No</td>\n",
       "      <td>4950</td>\n",
       "      <td>0.0</td>\n",
       "      <td>125</td>\n",
       "      <td>360</td>\n",
       "      <td>Good loan history</td>\n",
       "      <td>Urban</td>\n",
       "      <td>Granted</td>\n",
       "    </tr>\n",
       "    <tr>\n",
       "      <th>10</th>\n",
       "      <td>Male</td>\n",
       "      <td>No</td>\n",
       "      <td>1</td>\n",
       "      <td>Not Graduate</td>\n",
       "      <td>No</td>\n",
       "      <td>3596</td>\n",
       "      <td>0.0</td>\n",
       "      <td>100</td>\n",
       "      <td>240</td>\n",
       "      <td>Good loan history</td>\n",
       "      <td>Urban</td>\n",
       "      <td>Granted</td>\n",
       "    </tr>\n",
       "    <tr>\n",
       "      <th>11</th>\n",
       "      <td>Female</td>\n",
       "      <td>No</td>\n",
       "      <td>0</td>\n",
       "      <td>Graduate</td>\n",
       "      <td>No</td>\n",
       "      <td>3510</td>\n",
       "      <td>0.0</td>\n",
       "      <td>76</td>\n",
       "      <td>360</td>\n",
       "      <td>Bad loan history</td>\n",
       "      <td>Urban</td>\n",
       "      <td>Declined</td>\n",
       "    </tr>\n",
       "    <tr>\n",
       "      <th>12</th>\n",
       "      <td>Male</td>\n",
       "      <td>Yes</td>\n",
       "      <td>0</td>\n",
       "      <td>Not Graduate</td>\n",
       "      <td>No</td>\n",
       "      <td>4887</td>\n",
       "      <td>0.0</td>\n",
       "      <td>133</td>\n",
       "      <td>360</td>\n",
       "      <td>Good loan history</td>\n",
       "      <td>Rural</td>\n",
       "      <td>Declined</td>\n",
       "    </tr>\n",
       "    <tr>\n",
       "      <th>13</th>\n",
       "      <td>Male</td>\n",
       "      <td>Yes</td>\n",
       "      <td>0</td>\n",
       "      <td>Graduate</td>\n",
       "      <td>No</td>\n",
       "      <td>2600</td>\n",
       "      <td>3500.0</td>\n",
       "      <td>115</td>\n",
       "      <td>360</td>\n",
       "      <td>Good loan history</td>\n",
       "      <td>Urban</td>\n",
       "      <td>Granted</td>\n",
       "    </tr>\n",
       "    <tr>\n",
       "      <th>14</th>\n",
       "      <td>Male</td>\n",
       "      <td>Yes</td>\n",
       "      <td>0</td>\n",
       "      <td>Not Graduate</td>\n",
       "      <td>No</td>\n",
       "      <td>7660</td>\n",
       "      <td>0.0</td>\n",
       "      <td>104</td>\n",
       "      <td>360</td>\n",
       "      <td>Bad loan history</td>\n",
       "      <td>Urban</td>\n",
       "      <td>Declined</td>\n",
       "    </tr>\n",
       "    <tr>\n",
       "      <th>15</th>\n",
       "      <td>Male</td>\n",
       "      <td>Yes</td>\n",
       "      <td>0</td>\n",
       "      <td>Not Graduate</td>\n",
       "      <td>No</td>\n",
       "      <td>2600</td>\n",
       "      <td>1911.0</td>\n",
       "      <td>116</td>\n",
       "      <td>360</td>\n",
       "      <td>Bad loan history</td>\n",
       "      <td>Semiurban</td>\n",
       "      <td>Declined</td>\n",
       "    </tr>\n",
       "    <tr>\n",
       "      <th>16</th>\n",
       "      <td>Male</td>\n",
       "      <td>Yes</td>\n",
       "      <td>2</td>\n",
       "      <td>Not Graduate</td>\n",
       "      <td>No</td>\n",
       "      <td>3365</td>\n",
       "      <td>1917.0</td>\n",
       "      <td>112</td>\n",
       "      <td>360</td>\n",
       "      <td>Bad loan history</td>\n",
       "      <td>Rural</td>\n",
       "      <td>Declined</td>\n",
       "    </tr>\n",
       "    <tr>\n",
       "      <th>17</th>\n",
       "      <td>Male</td>\n",
       "      <td>Yes</td>\n",
       "      <td>0</td>\n",
       "      <td>Graduate</td>\n",
       "      <td>No</td>\n",
       "      <td>2799</td>\n",
       "      <td>2253.0</td>\n",
       "      <td>122</td>\n",
       "      <td>360</td>\n",
       "      <td>Good loan history</td>\n",
       "      <td>Semiurban</td>\n",
       "      <td>Granted</td>\n",
       "    </tr>\n",
       "    <tr>\n",
       "      <th>18</th>\n",
       "      <td>Male</td>\n",
       "      <td>Yes</td>\n",
       "      <td>2</td>\n",
       "      <td>Not Graduate</td>\n",
       "      <td>No</td>\n",
       "      <td>4226</td>\n",
       "      <td>1040.0</td>\n",
       "      <td>110</td>\n",
       "      <td>360</td>\n",
       "      <td>Good loan history</td>\n",
       "      <td>Urban</td>\n",
       "      <td>Granted</td>\n",
       "    </tr>\n",
       "    <tr>\n",
       "      <th>19</th>\n",
       "      <td>Male</td>\n",
       "      <td>No</td>\n",
       "      <td>0</td>\n",
       "      <td>Not Graduate</td>\n",
       "      <td>No</td>\n",
       "      <td>1442</td>\n",
       "      <td>0.0</td>\n",
       "      <td>35</td>\n",
       "      <td>360</td>\n",
       "      <td>Good loan history</td>\n",
       "      <td>Urban</td>\n",
       "      <td>Declined</td>\n",
       "    </tr>\n",
       "    <tr>\n",
       "      <th>20</th>\n",
       "      <td>Female</td>\n",
       "      <td>No</td>\n",
       "      <td>2</td>\n",
       "      <td>Graduate</td>\n",
       "      <td>No</td>\n",
       "      <td>3750</td>\n",
       "      <td>2083.0</td>\n",
       "      <td>120</td>\n",
       "      <td>360</td>\n",
       "      <td>Good loan history</td>\n",
       "      <td>Semiurban</td>\n",
       "      <td>Granted</td>\n",
       "    </tr>\n",
       "    <tr>\n",
       "      <th>21</th>\n",
       "      <td>Male</td>\n",
       "      <td>No</td>\n",
       "      <td>0</td>\n",
       "      <td>Graduate</td>\n",
       "      <td>No</td>\n",
       "      <td>3167</td>\n",
       "      <td>0.0</td>\n",
       "      <td>74</td>\n",
       "      <td>360</td>\n",
       "      <td>Good loan history</td>\n",
       "      <td>Urban</td>\n",
       "      <td>Declined</td>\n",
       "    </tr>\n",
       "    <tr>\n",
       "      <th>22</th>\n",
       "      <td>Male</td>\n",
       "      <td>No</td>\n",
       "      <td>1</td>\n",
       "      <td>Graduate</td>\n",
       "      <td>Yes</td>\n",
       "      <td>4692</td>\n",
       "      <td>0.0</td>\n",
       "      <td>106</td>\n",
       "      <td>360</td>\n",
       "      <td>Good loan history</td>\n",
       "      <td>Rural</td>\n",
       "      <td>Declined</td>\n",
       "    </tr>\n",
       "    <tr>\n",
       "      <th>23</th>\n",
       "      <td>Male</td>\n",
       "      <td>Yes</td>\n",
       "      <td>0</td>\n",
       "      <td>Graduate</td>\n",
       "      <td>No</td>\n",
       "      <td>3500</td>\n",
       "      <td>1667.0</td>\n",
       "      <td>114</td>\n",
       "      <td>360</td>\n",
       "      <td>Good loan history</td>\n",
       "      <td>Semiurban</td>\n",
       "      <td>Granted</td>\n",
       "    </tr>\n",
       "    <tr>\n",
       "      <th>24</th>\n",
       "      <td>Male</td>\n",
       "      <td>Yes</td>\n",
       "      <td>0</td>\n",
       "      <td>Graduate</td>\n",
       "      <td>No</td>\n",
       "      <td>1828</td>\n",
       "      <td>1330.0</td>\n",
       "      <td>100</td>\n",
       "      <td>360</td>\n",
       "      <td>Bad loan history</td>\n",
       "      <td>Urban</td>\n",
       "      <td>Declined</td>\n",
       "    </tr>\n",
       "    <tr>\n",
       "      <th>25</th>\n",
       "      <td>Female</td>\n",
       "      <td>Yes</td>\n",
       "      <td>0</td>\n",
       "      <td>Graduate</td>\n",
       "      <td>No</td>\n",
       "      <td>3667</td>\n",
       "      <td>1459.0</td>\n",
       "      <td>144</td>\n",
       "      <td>360</td>\n",
       "      <td>Good loan history</td>\n",
       "      <td>Semiurban</td>\n",
       "      <td>Granted</td>\n",
       "    </tr>\n",
       "    <tr>\n",
       "      <th>26</th>\n",
       "      <td>Male</td>\n",
       "      <td>No</td>\n",
       "      <td>0</td>\n",
       "      <td>Not Graduate</td>\n",
       "      <td>No</td>\n",
       "      <td>3748</td>\n",
       "      <td>1668.0</td>\n",
       "      <td>110</td>\n",
       "      <td>360</td>\n",
       "      <td>Good loan history</td>\n",
       "      <td>Semiurban</td>\n",
       "      <td>Granted</td>\n",
       "    </tr>\n",
       "    <tr>\n",
       "      <th>27</th>\n",
       "      <td>Male</td>\n",
       "      <td>No</td>\n",
       "      <td>0</td>\n",
       "      <td>Graduate</td>\n",
       "      <td>No</td>\n",
       "      <td>3600</td>\n",
       "      <td>0.0</td>\n",
       "      <td>80</td>\n",
       "      <td>360</td>\n",
       "      <td>Good loan history</td>\n",
       "      <td>Urban</td>\n",
       "      <td>Declined</td>\n",
       "    </tr>\n",
       "    <tr>\n",
       "      <th>28</th>\n",
       "      <td>Male</td>\n",
       "      <td>No</td>\n",
       "      <td>0</td>\n",
       "      <td>Graduate</td>\n",
       "      <td>No</td>\n",
       "      <td>1800</td>\n",
       "      <td>1213.0</td>\n",
       "      <td>47</td>\n",
       "      <td>360</td>\n",
       "      <td>Good loan history</td>\n",
       "      <td>Urban</td>\n",
       "      <td>Granted</td>\n",
       "    </tr>\n",
       "    <tr>\n",
       "      <th>29</th>\n",
       "      <td>Male</td>\n",
       "      <td>Yes</td>\n",
       "      <td>0</td>\n",
       "      <td>Graduate</td>\n",
       "      <td>No</td>\n",
       "      <td>2400</td>\n",
       "      <td>0.0</td>\n",
       "      <td>75</td>\n",
       "      <td>360</td>\n",
       "      <td>Good loan history</td>\n",
       "      <td>Urban</td>\n",
       "      <td>Granted</td>\n",
       "    </tr>\n",
       "    <tr>\n",
       "      <th>30</th>\n",
       "      <td>Male</td>\n",
       "      <td>Yes</td>\n",
       "      <td>0</td>\n",
       "      <td>Graduate</td>\n",
       "      <td>No</td>\n",
       "      <td>3941</td>\n",
       "      <td>2336.0</td>\n",
       "      <td>134</td>\n",
       "      <td>360</td>\n",
       "      <td>Good loan history</td>\n",
       "      <td>Semiurban</td>\n",
       "      <td>Granted</td>\n",
       "    </tr>\n",
       "    <tr>\n",
       "      <th>31</th>\n",
       "      <td>Male</td>\n",
       "      <td>Yes</td>\n",
       "      <td>0</td>\n",
       "      <td>Not Graduate</td>\n",
       "      <td>Yes</td>\n",
       "      <td>4695</td>\n",
       "      <td>0.0</td>\n",
       "      <td>96</td>\n",
       "      <td>360</td>\n",
       "      <td>Good loan history</td>\n",
       "      <td>Urban</td>\n",
       "      <td>Granted</td>\n",
       "    </tr>\n",
       "    <tr>\n",
       "      <th>32</th>\n",
       "      <td>Female</td>\n",
       "      <td>No</td>\n",
       "      <td>0</td>\n",
       "      <td>Graduate</td>\n",
       "      <td>No</td>\n",
       "      <td>3410</td>\n",
       "      <td>0.0</td>\n",
       "      <td>88</td>\n",
       "      <td>360</td>\n",
       "      <td>Good loan history</td>\n",
       "      <td>Urban</td>\n",
       "      <td>Granted</td>\n",
       "    </tr>\n",
       "    <tr>\n",
       "      <th>33</th>\n",
       "      <td>Male</td>\n",
       "      <td>Yes</td>\n",
       "      <td>1</td>\n",
       "      <td>Graduate</td>\n",
       "      <td>No</td>\n",
       "      <td>5649</td>\n",
       "      <td>0.0</td>\n",
       "      <td>44</td>\n",
       "      <td>360</td>\n",
       "      <td>Good loan history</td>\n",
       "      <td>Urban</td>\n",
       "      <td>Granted</td>\n",
       "    </tr>\n",
       "    <tr>\n",
       "      <th>34</th>\n",
       "      <td>Male</td>\n",
       "      <td>Yes</td>\n",
       "      <td>0</td>\n",
       "      <td>Graduate</td>\n",
       "      <td>No</td>\n",
       "      <td>5821</td>\n",
       "      <td>0.0</td>\n",
       "      <td>144</td>\n",
       "      <td>360</td>\n",
       "      <td>Good loan history</td>\n",
       "      <td>Urban</td>\n",
       "      <td>Granted</td>\n",
       "    </tr>\n",
       "    <tr>\n",
       "      <th>35</th>\n",
       "      <td>Female</td>\n",
       "      <td>Yes</td>\n",
       "      <td>0</td>\n",
       "      <td>Graduate</td>\n",
       "      <td>No</td>\n",
       "      <td>2645</td>\n",
       "      <td>3440.0</td>\n",
       "      <td>120</td>\n",
       "      <td>360</td>\n",
       "      <td>Bad loan history</td>\n",
       "      <td>Urban</td>\n",
       "      <td>Declined</td>\n",
       "    </tr>\n",
       "    <tr>\n",
       "      <th>36</th>\n",
       "      <td>Female</td>\n",
       "      <td>No</td>\n",
       "      <td>0</td>\n",
       "      <td>Graduate</td>\n",
       "      <td>No</td>\n",
       "      <td>4000</td>\n",
       "      <td>2275.0</td>\n",
       "      <td>144</td>\n",
       "      <td>360</td>\n",
       "      <td>Good loan history</td>\n",
       "      <td>Semiurban</td>\n",
       "      <td>Granted</td>\n",
       "    </tr>\n",
       "    <tr>\n",
       "      <th>37</th>\n",
       "      <td>Female</td>\n",
       "      <td>Yes</td>\n",
       "      <td>0</td>\n",
       "      <td>Not Graduate</td>\n",
       "      <td>No</td>\n",
       "      <td>1928</td>\n",
       "      <td>1644.0</td>\n",
       "      <td>100</td>\n",
       "      <td>360</td>\n",
       "      <td>Good loan history</td>\n",
       "      <td>Semiurban</td>\n",
       "      <td>Granted</td>\n",
       "    </tr>\n",
       "    <tr>\n",
       "      <th>38</th>\n",
       "      <td>Female</td>\n",
       "      <td>No</td>\n",
       "      <td>0</td>\n",
       "      <td>Graduate</td>\n",
       "      <td>No</td>\n",
       "      <td>3086</td>\n",
       "      <td>0.0</td>\n",
       "      <td>120</td>\n",
       "      <td>360</td>\n",
       "      <td>Good loan history</td>\n",
       "      <td>Semiurban</td>\n",
       "      <td>Granted</td>\n",
       "    </tr>\n",
       "    <tr>\n",
       "      <th>39</th>\n",
       "      <td>Female</td>\n",
       "      <td>No</td>\n",
       "      <td>0</td>\n",
       "      <td>Graduate</td>\n",
       "      <td>No</td>\n",
       "      <td>4230</td>\n",
       "      <td>0.0</td>\n",
       "      <td>112</td>\n",
       "      <td>360</td>\n",
       "      <td>Good loan history</td>\n",
       "      <td>Semiurban</td>\n",
       "      <td>Declined</td>\n",
       "    </tr>\n",
       "    <tr>\n",
       "      <th>40</th>\n",
       "      <td>Male</td>\n",
       "      <td>Yes</td>\n",
       "      <td>2</td>\n",
       "      <td>Graduate</td>\n",
       "      <td>No</td>\n",
       "      <td>4616</td>\n",
       "      <td>0.0</td>\n",
       "      <td>134</td>\n",
       "      <td>360</td>\n",
       "      <td>Good loan history</td>\n",
       "      <td>Urban</td>\n",
       "      <td>Declined</td>\n",
       "    </tr>\n",
       "    <tr>\n",
       "      <th>41</th>\n",
       "      <td>Male</td>\n",
       "      <td>Yes</td>\n",
       "      <td>2</td>\n",
       "      <td>Graduate</td>\n",
       "      <td>No</td>\n",
       "      <td>2708</td>\n",
       "      <td>1167.0</td>\n",
       "      <td>97</td>\n",
       "      <td>360</td>\n",
       "      <td>Good loan history</td>\n",
       "      <td>Semiurban</td>\n",
       "      <td>Granted</td>\n",
       "    </tr>\n",
       "    <tr>\n",
       "      <th>42</th>\n",
       "      <td>Male</td>\n",
       "      <td>Yes</td>\n",
       "      <td>0</td>\n",
       "      <td>Graduate</td>\n",
       "      <td>No</td>\n",
       "      <td>2132</td>\n",
       "      <td>1591.0</td>\n",
       "      <td>96</td>\n",
       "      <td>360</td>\n",
       "      <td>Good loan history</td>\n",
       "      <td>Semiurban</td>\n",
       "      <td>Granted</td>\n",
       "    </tr>\n",
       "    <tr>\n",
       "      <th>43</th>\n",
       "      <td>Male</td>\n",
       "      <td>Yes</td>\n",
       "      <td>0</td>\n",
       "      <td>Graduate</td>\n",
       "      <td>No</td>\n",
       "      <td>3366</td>\n",
       "      <td>2200.0</td>\n",
       "      <td>135</td>\n",
       "      <td>360</td>\n",
       "      <td>Good loan history</td>\n",
       "      <td>Rural</td>\n",
       "      <td>Declined</td>\n",
       "    </tr>\n",
       "    <tr>\n",
       "      <th>44</th>\n",
       "      <td>Male</td>\n",
       "      <td>Yes</td>\n",
       "      <td>2</td>\n",
       "      <td>Not Graduate</td>\n",
       "      <td>No</td>\n",
       "      <td>3357</td>\n",
       "      <td>2859.0</td>\n",
       "      <td>144</td>\n",
       "      <td>360</td>\n",
       "      <td>Good loan history</td>\n",
       "      <td>Urban</td>\n",
       "      <td>Granted</td>\n",
       "    </tr>\n",
       "    <tr>\n",
       "      <th>45</th>\n",
       "      <td>Male</td>\n",
       "      <td>Yes</td>\n",
       "      <td>0</td>\n",
       "      <td>Graduate</td>\n",
       "      <td>No</td>\n",
       "      <td>2500</td>\n",
       "      <td>3796.0</td>\n",
       "      <td>120</td>\n",
       "      <td>360</td>\n",
       "      <td>Good loan history</td>\n",
       "      <td>Urban</td>\n",
       "      <td>Granted</td>\n",
       "    </tr>\n",
       "    <tr>\n",
       "      <th>46</th>\n",
       "      <td>Male</td>\n",
       "      <td>Yes</td>\n",
       "      <td>3</td>\n",
       "      <td>Graduate</td>\n",
       "      <td>No</td>\n",
       "      <td>3029</td>\n",
       "      <td>0.0</td>\n",
       "      <td>99</td>\n",
       "      <td>360</td>\n",
       "      <td>Good loan history</td>\n",
       "      <td>Urban</td>\n",
       "      <td>Granted</td>\n",
       "    </tr>\n",
       "    <tr>\n",
       "      <th>47</th>\n",
       "      <td>Female</td>\n",
       "      <td>No</td>\n",
       "      <td>0</td>\n",
       "      <td>Graduate</td>\n",
       "      <td>No</td>\n",
       "      <td>4166</td>\n",
       "      <td>0.0</td>\n",
       "      <td>116</td>\n",
       "      <td>360</td>\n",
       "      <td>Bad loan history</td>\n",
       "      <td>Semiurban</td>\n",
       "      <td>Declined</td>\n",
       "    </tr>\n",
       "    <tr>\n",
       "      <th>48</th>\n",
       "      <td>Male</td>\n",
       "      <td>No</td>\n",
       "      <td>0</td>\n",
       "      <td>Not Graduate</td>\n",
       "      <td>No</td>\n",
       "      <td>3200</td>\n",
       "      <td>2254.0</td>\n",
       "      <td>126</td>\n",
       "      <td>180</td>\n",
       "      <td>Bad loan history</td>\n",
       "      <td>Urban</td>\n",
       "      <td>Declined</td>\n",
       "    </tr>\n",
       "    <tr>\n",
       "      <th>49</th>\n",
       "      <td>Male</td>\n",
       "      <td>Yes</td>\n",
       "      <td>3</td>\n",
       "      <td>Not Graduate</td>\n",
       "      <td>Yes</td>\n",
       "      <td>7100</td>\n",
       "      <td>0.0</td>\n",
       "      <td>125</td>\n",
       "      <td>60</td>\n",
       "      <td>Good loan history</td>\n",
       "      <td>Urban</td>\n",
       "      <td>Granted</td>\n",
       "    </tr>\n",
       "  </tbody>\n",
       "</table>\n",
       "</div>"
      ],
      "text/plain": [
       "    Gender Married Dependents     Education Self_Employed  ApplicantIncome  \\\n",
       "0     Male     Yes          1      Graduate            No             4583   \n",
       "1     Male     Yes          0      Graduate           Yes             3000   \n",
       "2     Male     Yes          0  Not Graduate            No             2583   \n",
       "3     Male      No          0      Graduate            No             6000   \n",
       "4     Male     Yes          0  Not Graduate            No             2333   \n",
       "5     Male     Yes          2      Graduate            No             3200   \n",
       "6     Male     Yes          2      Graduate            No             2500   \n",
       "7     Male      No          0      Graduate            No             1853   \n",
       "8     Male     Yes          2      Graduate            No             1299   \n",
       "9     Male      No          0      Graduate            No             4950   \n",
       "10    Male      No          1  Not Graduate            No             3596   \n",
       "11  Female      No          0      Graduate            No             3510   \n",
       "12    Male     Yes          0  Not Graduate            No             4887   \n",
       "13    Male     Yes          0      Graduate            No             2600   \n",
       "14    Male     Yes          0  Not Graduate            No             7660   \n",
       "15    Male     Yes          0  Not Graduate            No             2600   \n",
       "16    Male     Yes          2  Not Graduate            No             3365   \n",
       "17    Male     Yes          0      Graduate            No             2799   \n",
       "18    Male     Yes          2  Not Graduate            No             4226   \n",
       "19    Male      No          0  Not Graduate            No             1442   \n",
       "20  Female      No          2      Graduate            No             3750   \n",
       "21    Male      No          0      Graduate            No             3167   \n",
       "22    Male      No          1      Graduate           Yes             4692   \n",
       "23    Male     Yes          0      Graduate            No             3500   \n",
       "24    Male     Yes          0      Graduate            No             1828   \n",
       "25  Female     Yes          0      Graduate            No             3667   \n",
       "26    Male      No          0  Not Graduate            No             3748   \n",
       "27    Male      No          0      Graduate            No             3600   \n",
       "28    Male      No          0      Graduate            No             1800   \n",
       "29    Male     Yes          0      Graduate            No             2400   \n",
       "30    Male     Yes          0      Graduate            No             3941   \n",
       "31    Male     Yes          0  Not Graduate           Yes             4695   \n",
       "32  Female      No          0      Graduate            No             3410   \n",
       "33    Male     Yes          1      Graduate            No             5649   \n",
       "34    Male     Yes          0      Graduate            No             5821   \n",
       "35  Female     Yes          0      Graduate            No             2645   \n",
       "36  Female      No          0      Graduate            No             4000   \n",
       "37  Female     Yes          0  Not Graduate            No             1928   \n",
       "38  Female      No          0      Graduate            No             3086   \n",
       "39  Female      No          0      Graduate            No             4230   \n",
       "40    Male     Yes          2      Graduate            No             4616   \n",
       "41    Male     Yes          2      Graduate            No             2708   \n",
       "42    Male     Yes          0      Graduate            No             2132   \n",
       "43    Male     Yes          0      Graduate            No             3366   \n",
       "44    Male     Yes          2  Not Graduate            No             3357   \n",
       "45    Male     Yes          0      Graduate            No             2500   \n",
       "46    Male     Yes          3      Graduate            No             3029   \n",
       "47  Female      No          0      Graduate            No             4166   \n",
       "48    Male      No          0  Not Graduate            No             3200   \n",
       "49    Male     Yes          3  Not Graduate           Yes             7100   \n",
       "\n",
       "    CoapplicantIncome  LoanAmount Loan_Amount_Term     Credit_History  \\\n",
       "0              1508.0         128              360  Good loan history   \n",
       "1                 0.0          66              360  Good loan history   \n",
       "2              2358.0         120              360  Good loan history   \n",
       "3                 0.0         141              360  Good loan history   \n",
       "4              1516.0          95              360  Good loan history   \n",
       "5               700.0          70              360  Good loan history   \n",
       "6              1840.0         109              360  Good loan history   \n",
       "7              2840.0         114              360  Good loan history   \n",
       "8              1086.0          17              120  Good loan history   \n",
       "9                 0.0         125              360  Good loan history   \n",
       "10                0.0         100              240  Good loan history   \n",
       "11                0.0          76              360   Bad loan history   \n",
       "12                0.0         133              360  Good loan history   \n",
       "13             3500.0         115              360  Good loan history   \n",
       "14                0.0         104              360   Bad loan history   \n",
       "15             1911.0         116              360   Bad loan history   \n",
       "16             1917.0         112              360   Bad loan history   \n",
       "17             2253.0         122              360  Good loan history   \n",
       "18             1040.0         110              360  Good loan history   \n",
       "19                0.0          35              360  Good loan history   \n",
       "20             2083.0         120              360  Good loan history   \n",
       "21                0.0          74              360  Good loan history   \n",
       "22                0.0         106              360  Good loan history   \n",
       "23             1667.0         114              360  Good loan history   \n",
       "24             1330.0         100              360   Bad loan history   \n",
       "25             1459.0         144              360  Good loan history   \n",
       "26             1668.0         110              360  Good loan history   \n",
       "27                0.0          80              360  Good loan history   \n",
       "28             1213.0          47              360  Good loan history   \n",
       "29                0.0          75              360  Good loan history   \n",
       "30             2336.0         134              360  Good loan history   \n",
       "31                0.0          96              360  Good loan history   \n",
       "32                0.0          88              360  Good loan history   \n",
       "33                0.0          44              360  Good loan history   \n",
       "34                0.0         144              360  Good loan history   \n",
       "35             3440.0         120              360   Bad loan history   \n",
       "36             2275.0         144              360  Good loan history   \n",
       "37             1644.0         100              360  Good loan history   \n",
       "38                0.0         120              360  Good loan history   \n",
       "39                0.0         112              360  Good loan history   \n",
       "40                0.0         134              360  Good loan history   \n",
       "41             1167.0          97              360  Good loan history   \n",
       "42             1591.0          96              360  Good loan history   \n",
       "43             2200.0         135              360  Good loan history   \n",
       "44             2859.0         144              360  Good loan history   \n",
       "45             3796.0         120              360  Good loan history   \n",
       "46                0.0          99              360  Good loan history   \n",
       "47                0.0         116              360   Bad loan history   \n",
       "48             2254.0         126              180   Bad loan history   \n",
       "49                0.0         125               60  Good loan history   \n",
       "\n",
       "   Property_Area Loan_Status  \n",
       "0          Rural    Declined  \n",
       "1          Urban     Granted  \n",
       "2          Urban     Granted  \n",
       "3          Urban     Granted  \n",
       "4          Urban     Granted  \n",
       "5          Urban     Granted  \n",
       "6          Urban     Granted  \n",
       "7          Rural    Declined  \n",
       "8          Urban     Granted  \n",
       "9          Urban     Granted  \n",
       "10         Urban     Granted  \n",
       "11         Urban    Declined  \n",
       "12         Rural    Declined  \n",
       "13         Urban     Granted  \n",
       "14         Urban    Declined  \n",
       "15     Semiurban    Declined  \n",
       "16         Rural    Declined  \n",
       "17     Semiurban     Granted  \n",
       "18         Urban     Granted  \n",
       "19         Urban    Declined  \n",
       "20     Semiurban     Granted  \n",
       "21         Urban    Declined  \n",
       "22         Rural    Declined  \n",
       "23     Semiurban     Granted  \n",
       "24         Urban    Declined  \n",
       "25     Semiurban     Granted  \n",
       "26     Semiurban     Granted  \n",
       "27         Urban    Declined  \n",
       "28         Urban     Granted  \n",
       "29         Urban     Granted  \n",
       "30     Semiurban     Granted  \n",
       "31         Urban     Granted  \n",
       "32         Urban     Granted  \n",
       "33         Urban     Granted  \n",
       "34         Urban     Granted  \n",
       "35         Urban    Declined  \n",
       "36     Semiurban     Granted  \n",
       "37     Semiurban     Granted  \n",
       "38     Semiurban     Granted  \n",
       "39     Semiurban    Declined  \n",
       "40         Urban    Declined  \n",
       "41     Semiurban     Granted  \n",
       "42     Semiurban     Granted  \n",
       "43         Rural    Declined  \n",
       "44         Urban     Granted  \n",
       "45         Urban     Granted  \n",
       "46         Urban     Granted  \n",
       "47     Semiurban    Declined  \n",
       "48         Urban    Declined  \n",
       "49         Urban     Granted  "
      ]
     },
     "execution_count": 42,
     "metadata": {},
     "output_type": "execute_result"
    }
   ],
   "source": [
    "# Changing the display settings to show first 100 rows\n",
    "pd.set_option('display.max_rows', 100)\n",
    "\n",
    "# Viewing the loan_data\n",
    "loan_data.head(50)"
   ]
  },
  {
   "cell_type": "markdown",
   "id": "cea54b2b",
   "metadata": {},
   "source": [
    "#"
   ]
  },
  {
   "cell_type": "markdown",
   "id": "f063439a",
   "metadata": {},
   "source": [
    "#### 2.10.1 Using a Heatmap to check the correlation between the numerical variables"
   ]
  },
  {
   "cell_type": "code",
   "execution_count": 43,
   "id": "6032366b",
   "metadata": {},
   "outputs": [
    {
     "name": "stderr",
     "output_type": "stream",
     "text": [
      "C:\\Users\\HP\\AppData\\Local\\Temp\\ipykernel_4644\\2157999339.py:2: FutureWarning: The default value of numeric_only in DataFrame.corr is deprecated. In a future version, it will default to False. Select only valid columns or specify the value of numeric_only to silence this warning.\n",
      "  df_cor = loan_data.corr().round(2)\n"
     ]
    },
    {
     "data": {
      "text/plain": [
       "Text(0.5, 1.0, 'The correlation between the numerical features')"
      ]
     },
     "execution_count": 43,
     "metadata": {},
     "output_type": "execute_result"
    },
    {
     "data": {
      "image/png": "[encoded data removed]",
      "text/plain": [
       "<Figure size 1000x500 with 2 Axes>"
      ]
     },
     "metadata": {},
     "output_type": "display_data"
    }
   ],
   "source": [
    "# Checking the correlation between the numerical variables\n",
    "df_cor = loan_data.corr().round(2)\n",
    "plt.figure(figsize = (10, 5))\n",
    "plot = sns.heatmap(df_cor, annot=True, cmap='coolwarm')\n",
    "plt.title('The correlation between the numerical features')"
   ]
  },
  {
   "cell_type": "markdown",
   "id": "393958b8",
   "metadata": {},
   "source": [
    "1. There is a weak negative correlation of -0.25 between CoapplicantIncome and ApplicantIncome. An applicant who does not earn much money may need a coapplicant with much money to apply for a loan.\n",
    "2. The weak positive correlation of 0.27 between ApplicantIncome and Loan amount shows that an applicant who earns more is likely applying for a higher loan amount.\n",
    "3. The relationship between CoapplicantIncome and LoanAmount is a very weak positive correlation of 0.11 which means that getting a higher loan amount may need a coapplicant who earns more."
   ]
  },
  {
   "cell_type": "code",
   "execution_count": 44,
   "id": "ce9fa0ad",
   "metadata": {},
   "outputs": [
    {
     "data": {
      "text/plain": [
       "Text(0.5, 1.0, 'A pairplot of correlating features')"
      ]
     },
     "execution_count": 44,
     "metadata": {},
     "output_type": "execute_result"
    },
    {
     "data": {
      "text/plain": [
       "<Figure size 2000x2000 with 0 Axes>"
      ]
     },
     "metadata": {},
     "output_type": "display_data"
    },
    {
     "data": {
      "image/png": "[encoded data removed]",
      "text/plain": [
       "<Figure size 750x750 with 12 Axes>"
      ]
     },
     "metadata": {},
     "output_type": "display_data"
    }
   ],
   "source": [
    "# Visualising the pair plots of the correlation\n",
    "plt.figure(figsize = (20,20))\n",
    "sns.pairplot(loan_data[['ApplicantIncome', 'CoapplicantIncome', 'LoanAmount']])\n",
    "plt.title('A pairplot of correlating features')"
   ]
  },
  {
   "cell_type": "code",
   "execution_count": 45,
   "id": "e8220110",
   "metadata": {},
   "outputs": [],
   "source": [
    "# Selecting the categorical columns\n",
    "categorical_features = loan_data.drop(['ApplicantIncome', 'CoapplicantIncome', 'LoanAmount'], axis=1)"
   ]
  },
  {
   "cell_type": "code",
   "execution_count": 46,
   "id": "f8e5477d",
   "metadata": {},
   "outputs": [
    {
     "data": {
      "text/html": [
       "<div>\n",
       "<style scoped>\n",
       "    .dataframe tbody tr th:only-of-type {\n",
       "        vertical-align: middle;\n",
       "    }\n",
       "\n",
       "    .dataframe tbody tr th {\n",
       "        vertical-align: top;\n",
       "    }\n",
       "\n",
       "    .dataframe thead th {\n",
       "        text-align: right;\n",
       "    }\n",
       "</style>\n",
       "<table border=\"1\" class=\"dataframe\">\n",
       "  <thead>\n",
       "    <tr style=\"text-align: right;\">\n",
       "      <th></th>\n",
       "      <th>Gender</th>\n",
       "      <th>Married</th>\n",
       "      <th>Dependents</th>\n",
       "      <th>Education</th>\n",
       "      <th>Self_Employed</th>\n",
       "      <th>Loan_Amount_Term</th>\n",
       "      <th>Credit_History</th>\n",
       "      <th>Property_Area</th>\n",
       "      <th>Loan_Status</th>\n",
       "    </tr>\n",
       "  </thead>\n",
       "  <tbody>\n",
       "    <tr>\n",
       "      <th>0</th>\n",
       "      <td>Male</td>\n",
       "      <td>Yes</td>\n",
       "      <td>1</td>\n",
       "      <td>Graduate</td>\n",
       "      <td>No</td>\n",
       "      <td>360</td>\n",
       "      <td>Good loan history</td>\n",
       "      <td>Rural</td>\n",
       "      <td>Declined</td>\n",
       "    </tr>\n",
       "    <tr>\n",
       "      <th>1</th>\n",
       "      <td>Male</td>\n",
       "      <td>Yes</td>\n",
       "      <td>0</td>\n",
       "      <td>Graduate</td>\n",
       "      <td>Yes</td>\n",
       "      <td>360</td>\n",
       "      <td>Good loan history</td>\n",
       "      <td>Urban</td>\n",
       "      <td>Granted</td>\n",
       "    </tr>\n",
       "    <tr>\n",
       "      <th>2</th>\n",
       "      <td>Male</td>\n",
       "      <td>Yes</td>\n",
       "      <td>0</td>\n",
       "      <td>Not Graduate</td>\n",
       "      <td>No</td>\n",
       "      <td>360</td>\n",
       "      <td>Good loan history</td>\n",
       "      <td>Urban</td>\n",
       "      <td>Granted</td>\n",
       "    </tr>\n",
       "    <tr>\n",
       "      <th>3</th>\n",
       "      <td>Male</td>\n",
       "      <td>No</td>\n",
       "      <td>0</td>\n",
       "      <td>Graduate</td>\n",
       "      <td>No</td>\n",
       "      <td>360</td>\n",
       "      <td>Good loan history</td>\n",
       "      <td>Urban</td>\n",
       "      <td>Granted</td>\n",
       "    </tr>\n",
       "    <tr>\n",
       "      <th>4</th>\n",
       "      <td>Male</td>\n",
       "      <td>Yes</td>\n",
       "      <td>0</td>\n",
       "      <td>Not Graduate</td>\n",
       "      <td>No</td>\n",
       "      <td>360</td>\n",
       "      <td>Good loan history</td>\n",
       "      <td>Urban</td>\n",
       "      <td>Granted</td>\n",
       "    </tr>\n",
       "  </tbody>\n",
       "</table>\n",
       "</div>"
      ],
      "text/plain": [
       "  Gender Married Dependents     Education Self_Employed Loan_Amount_Term  \\\n",
       "0   Male     Yes          1      Graduate            No              360   \n",
       "1   Male     Yes          0      Graduate           Yes              360   \n",
       "2   Male     Yes          0  Not Graduate            No              360   \n",
       "3   Male      No          0      Graduate            No              360   \n",
       "4   Male     Yes          0  Not Graduate            No              360   \n",
       "\n",
       "      Credit_History Property_Area Loan_Status  \n",
       "0  Good loan history         Rural    Declined  \n",
       "1  Good loan history         Urban     Granted  \n",
       "2  Good loan history         Urban     Granted  \n",
       "3  Good loan history         Urban     Granted  \n",
       "4  Good loan history         Urban     Granted  "
      ]
     },
     "execution_count": 46,
     "metadata": {},
     "output_type": "execute_result"
    }
   ],
   "source": [
    "categorical_features.head()"
   ]
  },
  {
   "cell_type": "markdown",
   "id": "4cb3868a",
   "metadata": {},
   "source": [
    "#### 2.11 The summary statistics of the numerical columns 'ApplicantIncome', 'CoapplicantIncome' and 'LoanAmount'"
   ]
  },
  {
   "cell_type": "code",
   "execution_count": 47,
   "id": "e8ba4f33",
   "metadata": {
    "scrolled": false
   },
   "outputs": [
    {
     "name": "stdout",
     "output_type": "stream",
     "text": [
      "Histogram for column ApplicantIncome\n"
     ]
    },
    {
     "data": {
      "image/png": "[encoded data removed]",
      "text/plain": [
       "<Figure size 1200x700 with 1 Axes>"
      ]
     },
     "metadata": {},
     "output_type": "display_data"
    },
    {
     "name": "stdout",
     "output_type": "stream",
     "text": [
      "Histogram for column CoapplicantIncome\n"
     ]
    },
    {
     "data": {
      "image/png": "[encoded data removed]",
      "text/plain": [
       "<Figure size 1200x700 with 1 Axes>"
      ]
     },
     "metadata": {},
     "output_type": "display_data"
    },
    {
     "name": "stdout",
     "output_type": "stream",
     "text": [
      "Histogram for column LoanAmount\n"
     ]
    },
    {
     "data": {
      "image/png": "[encoded data removed]",
      "text/plain": [
       "<Figure size 1200x700 with 1 Axes>"
      ]
     },
     "metadata": {},
     "output_type": "display_data"
    }
   ],
   "source": [
    "for columns in numerical_features:\n",
    "    print('Histogram for column', columns)\n",
    "    plt.figure(figsize=(12, 7))\n",
    "    plt.hist(loan_data[columns], bins=50, edgecolor='black')\n",
    "    plt.title(f\"Distribution of {columns}\")\n",
    "    plt.xlabel(columns)\n",
    "    plt.ylabel(\"Frequency\")\n",
    "    plt.show()"
   ]
  },
  {
   "cell_type": "markdown",
   "id": "79cd9c69",
   "metadata": {},
   "source": [
    "#### Applicant Income\n",
    "1. The applicant income histogram is skewed to the right which means it is likely that more applicants will earn higher that than the income captured in the data.\n",
    "2. The outliers that exist are normal because these are earnings of applicants.\n",
    "3. Most applicants earn approximately 3,000,000.\n",
    "4. The average earnings of applicants is 3,579,850\n",
    "5. The minimum and maximum earnings of applicants are 150,000 and 9,703,000 respectively.\n",
    "\n",
    "#### Coapplicant Income\n",
    "1. The coapplicant income histogram is skewed to the right which means that more values are likely to occur.\n",
    "2. The outliers are normal because they are earnings.\n",
    "3. Most coapplicants record 0 amount because most aoolicants applied without coapplicants.\n",
    "4. The minimum and maximum earings of coapplicants are 0 and 33,837,000 respectively.\n",
    "5. And the average income of coapplicants is 1,277,275.\n",
    "\n",
    "#### Loan Amount\n",
    "1. The loan amount histogram is skewed to the left which means that the bank is likely not giving loans above 150,000.\n",
    "2. The outliers here are normal because they are loan amounts that an applicant can afford to take.\n",
    "3. The histogram is multi modal because it has many peaks at approximately 25,000.00, 55,000.00, 65,000.00, 80,000.00, 95,000.00, 110,000.00, and 130,000.00.\n",
    "4. The minimum and maximum loan amount are 9,000 and 150,000.\n",
    "5. The most loan amount applied for is approximately 130,000.\n",
    "6. The average loan amount is 104,987."
   ]
  },
  {
   "cell_type": "markdown",
   "id": "81fb65e9",
   "metadata": {},
   "source": [
    "#### 2.12 Summary statistics of the categorical variables"
   ]
  },
  {
   "cell_type": "code",
   "execution_count": 48,
   "id": "f6b2b85e",
   "metadata": {
    "scrolled": false
   },
   "outputs": [
    {
     "name": "stdout",
     "output_type": "stream",
     "text": [
      "Unique values in column Gender\n",
      "Male      296\n",
      "Female     85\n",
      "Name: Gender, dtype: int64\n"
     ]
    },
    {
     "data": {
      "image/png": "[encoded data removed]",
      "text/plain": [
       "<Figure size 1000x600 with 1 Axes>"
      ]
     },
     "metadata": {},
     "output_type": "display_data"
    },
    {
     "name": "stdout",
     "output_type": "stream",
     "text": [
      "Unique values in column Married\n",
      "Yes    228\n",
      "No     153\n",
      "Name: Married, dtype: int64\n"
     ]
    },
    {
     "data": {
      "image/png": "[encoded data removed]",
      "text/plain": [
       "<Figure size 1000x600 with 1 Axes>"
      ]
     },
     "metadata": {},
     "output_type": "display_data"
    },
    {
     "name": "stdout",
     "output_type": "stream",
     "text": [
      "Unique values in column Dependents\n",
      "0    242\n",
      "2     59\n",
      "1     52\n",
      "3     28\n",
      "Name: Dependents, dtype: int64\n"
     ]
    },
    {
     "data": {
      "image/png": "[encoded data removed]",
      "text/plain": [
       "<Figure size 1000x600 with 1 Axes>"
      ]
     },
     "metadata": {},
     "output_type": "display_data"
    },
    {
     "name": "stdout",
     "output_type": "stream",
     "text": [
      "Unique values in column Education\n",
      "Graduate        278\n",
      "Not Graduate    103\n",
      "Name: Education, dtype: int64\n"
     ]
    },
    {
     "data": {
      "image/png": "[encoded data removed]",
      "text/plain": [
       "<Figure size 1000x600 with 1 Axes>"
      ]
     },
     "metadata": {},
     "output_type": "display_data"
    },
    {
     "name": "stdout",
     "output_type": "stream",
     "text": [
      "Unique values in column Self_Employed\n",
      "No     346\n",
      "Yes     35\n",
      "Name: Self_Employed, dtype: int64\n"
     ]
    },
    {
     "data": {
      "image/png": "[encoded data removed]",
      "text/plain": [
       "<Figure size 1000x600 with 1 Axes>"
      ]
     },
     "metadata": {},
     "output_type": "display_data"
    },
    {
     "name": "stdout",
     "output_type": "stream",
     "text": [
      "Unique values in column Loan_Amount_Term\n",
      "360    323\n",
      "180     29\n",
      "480     11\n",
      "300      7\n",
      "120      3\n",
      "84       3\n",
      "240      2\n",
      "60       1\n",
      "12       1\n",
      "36       1\n",
      "Name: Loan_Amount_Term, dtype: int64\n"
     ]
    },
    {
     "data": {
      "image/png": "[encoded data removed]",
      "text/plain": [
       "<Figure size 1000x600 with 1 Axes>"
      ]
     },
     "metadata": {},
     "output_type": "display_data"
    },
    {
     "name": "stdout",
     "output_type": "stream",
     "text": [
      "Unique values in column Credit_History\n",
      "Good loan history    324\n",
      "Bad loan history      57\n",
      "Name: Credit_History, dtype: int64\n"
     ]
    },
    {
     "data": {
      "image/png": "[encoded data removed]",
      "text/plain": [
       "<Figure size 1000x600 with 1 Axes>"
      ]
     },
     "metadata": {},
     "output_type": "display_data"
    },
    {
     "name": "stdout",
     "output_type": "stream",
     "text": [
      "Unique values in column Property_Area\n",
      "Semiurban    149\n",
      "Urban        126\n",
      "Rural        106\n",
      "Name: Property_Area, dtype: int64\n"
     ]
    },
    {
     "data": {
      "image/png": "[encoded data removed]",
      "text/plain": [
       "<Figure size 1000x600 with 1 Axes>"
      ]
     },
     "metadata": {},
     "output_type": "display_data"
    },
    {
     "name": "stdout",
     "output_type": "stream",
     "text": [
      "Unique values in column Loan_Status\n",
      "Granted     271\n",
      "Declined    110\n",
      "Name: Loan_Status, dtype: int64\n"
     ]
    },
    {
     "data": {
      "image/png": "[encoded data removed]",
      "text/plain": [
       "<Figure size 1000x600 with 1 Axes>"
      ]
     },
     "metadata": {},
     "output_type": "display_data"
    }
   ],
   "source": [
    "for columns in cate_features:\n",
    "    print(\"Unique values in column\", columns)\n",
    "    print(loan_data[columns].value_counts())\n",
    "    plt.figure(figsize=(10, 6))\n",
    "    loan_data[columns].value_counts().plot(kind='bar')\n",
    "    plt.title(f\"Barplot of {columns}\")\n",
    "    plt.xlabel(columns)\n",
    "    plt.ylabel(\"Frequency\")\n",
    "    plt.show()"
   ]
  },
  {
   "cell_type": "code",
   "execution_count": 49,
   "id": "d5edc5c8",
   "metadata": {},
   "outputs": [
    {
     "data": {
      "text/plain": [
       "Gender  Loan_Status\n",
       "Female  Declined        26\n",
       "        Granted         59\n",
       "Male    Declined        84\n",
       "        Granted        212\n",
       "Name: Loan_Status, dtype: int64"
      ]
     },
     "execution_count": 49,
     "metadata": {},
     "output_type": "execute_result"
    }
   ],
   "source": [
    "# The number of applications granted and declined grouped by gender\n",
    "loan_status_by_gender = loan_data.groupby(['Gender', 'Loan_Status'])['Loan_Status'].count()\n",
    "loan_status_by_gender"
   ]
  },
  {
   "cell_type": "code",
   "execution_count": 50,
   "id": "44dc4705",
   "metadata": {},
   "outputs": [
    {
     "data": {
      "text/plain": [
       "Gender  Loan_Status\n",
       "Female  Declined        6.82\n",
       "        Granted        15.49\n",
       "Male    Declined       22.05\n",
       "        Granted        55.64\n",
       "Name: Loan_Status, dtype: float64"
      ]
     },
     "execution_count": 50,
     "metadata": {},
     "output_type": "execute_result"
    }
   ],
   "source": [
    "# The percentage of applications granted and declined grouped by gender\n",
    "loan_status_by_gender_percentage = loan_status_by_gender / sum(loan_status_by_gender) * 100\n",
    "loan_status_by_gender_percentage.round(2)"
   ]
  },
  {
   "cell_type": "code",
   "execution_count": 51,
   "id": "0bb1fc10",
   "metadata": {},
   "outputs": [
    {
     "data": {
      "image/png": "[encoded data removed]",
      "text/plain": [
       "<Figure size 640x480 with 1 Axes>"
      ]
     },
     "metadata": {},
     "output_type": "display_data"
    }
   ],
   "source": [
    "# Visualizing the percentage proportion of loans granted and declined grouped by gender\n",
    "loan_status_by_gender_percentage.plot(kind='pie', autopct='%1.2f%%')\n",
    "plt.xticks(rotation=360)\n",
    "plt.title(\"Pie Chart showing the proportion of loans granted and declined by gender\")\n",
    "plt.legend()\n",
    "\n",
    "\n",
    "# Displaying the plot\n",
    "plt.show()"
   ]
  },
  {
   "cell_type": "markdown",
   "id": "b6577714",
   "metadata": {},
   "source": [
    "#"
   ]
  },
  {
   "cell_type": "markdown",
   "id": "67885be9",
   "metadata": {},
   "source": [
    "### 3. Preparing the dataset for model building"
   ]
  },
  {
   "cell_type": "code",
   "execution_count": 52,
   "id": "190e2e74",
   "metadata": {},
   "outputs": [],
   "source": [
    "# Extracting the input and output data from the dataset\n",
    "X = loan_data.drop('Loan_Status', axis=1) # Input\n",
    "y = loan_data['Loan_Status'] # Output"
   ]
  },
  {
   "cell_type": "code",
   "execution_count": 53,
   "id": "41649ea5",
   "metadata": {},
   "outputs": [
    {
     "data": {
      "text/plain": [
       "0    Declined\n",
       "1     Granted\n",
       "2     Granted\n",
       "3     Granted\n",
       "4     Granted\n",
       "Name: Loan_Status, dtype: object"
      ]
     },
     "execution_count": 53,
     "metadata": {},
     "output_type": "execute_result"
    }
   ],
   "source": [
    "y.head()"
   ]
  },
  {
   "cell_type": "code",
   "execution_count": 54,
   "id": "c8057416",
   "metadata": {
    "scrolled": true
   },
   "outputs": [
    {
     "data": {
      "text/html": [
       "<div>\n",
       "<style scoped>\n",
       "    .dataframe tbody tr th:only-of-type {\n",
       "        vertical-align: middle;\n",
       "    }\n",
       "\n",
       "    .dataframe tbody tr th {\n",
       "        vertical-align: top;\n",
       "    }\n",
       "\n",
       "    .dataframe thead th {\n",
       "        text-align: right;\n",
       "    }\n",
       "</style>\n",
       "<table border=\"1\" class=\"dataframe\">\n",
       "  <thead>\n",
       "    <tr style=\"text-align: right;\">\n",
       "      <th></th>\n",
       "      <th>Gender</th>\n",
       "      <th>Married</th>\n",
       "      <th>Dependents</th>\n",
       "      <th>Education</th>\n",
       "      <th>Self_Employed</th>\n",
       "      <th>ApplicantIncome</th>\n",
       "      <th>CoapplicantIncome</th>\n",
       "      <th>LoanAmount</th>\n",
       "      <th>Loan_Amount_Term</th>\n",
       "      <th>Credit_History</th>\n",
       "      <th>Property_Area</th>\n",
       "    </tr>\n",
       "  </thead>\n",
       "  <tbody>\n",
       "    <tr>\n",
       "      <th>0</th>\n",
       "      <td>Male</td>\n",
       "      <td>Yes</td>\n",
       "      <td>1</td>\n",
       "      <td>Graduate</td>\n",
       "      <td>No</td>\n",
       "      <td>4583</td>\n",
       "      <td>1508.0</td>\n",
       "      <td>128</td>\n",
       "      <td>360</td>\n",
       "      <td>Good loan history</td>\n",
       "      <td>Rural</td>\n",
       "    </tr>\n",
       "    <tr>\n",
       "      <th>1</th>\n",
       "      <td>Male</td>\n",
       "      <td>Yes</td>\n",
       "      <td>0</td>\n",
       "      <td>Graduate</td>\n",
       "      <td>Yes</td>\n",
       "      <td>3000</td>\n",
       "      <td>0.0</td>\n",
       "      <td>66</td>\n",
       "      <td>360</td>\n",
       "      <td>Good loan history</td>\n",
       "      <td>Urban</td>\n",
       "    </tr>\n",
       "    <tr>\n",
       "      <th>2</th>\n",
       "      <td>Male</td>\n",
       "      <td>Yes</td>\n",
       "      <td>0</td>\n",
       "      <td>Not Graduate</td>\n",
       "      <td>No</td>\n",
       "      <td>2583</td>\n",
       "      <td>2358.0</td>\n",
       "      <td>120</td>\n",
       "      <td>360</td>\n",
       "      <td>Good loan history</td>\n",
       "      <td>Urban</td>\n",
       "    </tr>\n",
       "    <tr>\n",
       "      <th>3</th>\n",
       "      <td>Male</td>\n",
       "      <td>No</td>\n",
       "      <td>0</td>\n",
       "      <td>Graduate</td>\n",
       "      <td>No</td>\n",
       "      <td>6000</td>\n",
       "      <td>0.0</td>\n",
       "      <td>141</td>\n",
       "      <td>360</td>\n",
       "      <td>Good loan history</td>\n",
       "      <td>Urban</td>\n",
       "    </tr>\n",
       "    <tr>\n",
       "      <th>4</th>\n",
       "      <td>Male</td>\n",
       "      <td>Yes</td>\n",
       "      <td>0</td>\n",
       "      <td>Not Graduate</td>\n",
       "      <td>No</td>\n",
       "      <td>2333</td>\n",
       "      <td>1516.0</td>\n",
       "      <td>95</td>\n",
       "      <td>360</td>\n",
       "      <td>Good loan history</td>\n",
       "      <td>Urban</td>\n",
       "    </tr>\n",
       "  </tbody>\n",
       "</table>\n",
       "</div>"
      ],
      "text/plain": [
       "  Gender Married Dependents     Education Self_Employed  ApplicantIncome  \\\n",
       "0   Male     Yes          1      Graduate            No             4583   \n",
       "1   Male     Yes          0      Graduate           Yes             3000   \n",
       "2   Male     Yes          0  Not Graduate            No             2583   \n",
       "3   Male      No          0      Graduate            No             6000   \n",
       "4   Male     Yes          0  Not Graduate            No             2333   \n",
       "\n",
       "   CoapplicantIncome  LoanAmount Loan_Amount_Term     Credit_History  \\\n",
       "0             1508.0         128              360  Good loan history   \n",
       "1                0.0          66              360  Good loan history   \n",
       "2             2358.0         120              360  Good loan history   \n",
       "3                0.0         141              360  Good loan history   \n",
       "4             1516.0          95              360  Good loan history   \n",
       "\n",
       "  Property_Area  \n",
       "0         Rural  \n",
       "1         Urban  \n",
       "2         Urban  \n",
       "3         Urban  \n",
       "4         Urban  "
      ]
     },
     "execution_count": 54,
     "metadata": {},
     "output_type": "execute_result"
    }
   ],
   "source": [
    "X.head()"
   ]
  },
  {
   "cell_type": "code",
   "execution_count": 55,
   "id": "0868fb1e",
   "metadata": {},
   "outputs": [],
   "source": [
    "# Applying Label Encoder to the output\n",
    "from sklearn.preprocessing import LabelEncoder\n",
    "le = LabelEncoder()\n",
    "y=le.fit_transform(y)"
   ]
  },
  {
   "cell_type": "code",
   "execution_count": 56,
   "id": "25b0c8e3",
   "metadata": {},
   "outputs": [
    {
     "data": {
      "text/plain": [
       "array([0, 1, 1, 1, 1, 1, 1, 0, 1, 1, 1, 0, 0, 1, 0, 0, 0, 1, 1, 0, 1, 0,\n",
       "       0, 1, 0, 1, 1, 0, 1, 1, 1, 1, 1, 1, 1, 0, 1, 1, 1, 0, 0, 1, 1, 0,\n",
       "       1, 1, 1, 0, 0, 1, 0, 1, 1, 0, 0, 0, 1, 1, 1, 1, 1, 1, 1, 1, 1, 1,\n",
       "       1, 1, 1, 1, 1, 1, 0, 1, 1, 1, 1, 1, 1, 1, 1, 1, 1, 1, 1, 1, 0, 1,\n",
       "       0, 1, 1, 1, 1, 0, 0, 1, 1, 1, 0, 1, 0, 1, 0, 1, 0, 0, 1, 1, 1, 0,\n",
       "       0, 1, 1, 0, 1, 1, 1, 1, 1, 1, 1, 1, 1, 1, 1, 1, 1, 0, 0, 1, 1, 1,\n",
       "       0, 1, 0, 1, 0, 1, 1, 1, 0, 1, 1, 1, 1, 1, 1, 1, 1, 0, 1, 1, 0, 1,\n",
       "       1, 1, 1, 0, 1, 0, 0, 0, 1, 1, 1, 1, 0, 1, 1, 1, 1, 1, 1, 1, 1, 1,\n",
       "       1, 1, 1, 0, 1, 1, 1, 0, 1, 0, 1, 1, 0, 0, 1, 1, 1, 1, 1, 0, 1, 1,\n",
       "       1, 1, 1, 1, 1, 1, 1, 1, 1, 1, 0, 1, 1, 1, 1, 1, 1, 0, 1, 1, 1, 1,\n",
       "       0, 1, 1, 0, 0, 0, 1, 1, 1, 0, 0, 0, 0, 1, 1, 1, 1, 0, 1, 1, 1, 0,\n",
       "       1, 1, 1, 1, 1, 1, 1, 1, 0, 1, 1, 0, 0, 0, 1, 1, 1, 1, 1, 0, 1, 1,\n",
       "       1, 1, 1, 0, 1, 0, 1, 0, 1, 1, 1, 1, 0, 1, 1, 1, 1, 1, 1, 1, 0, 0,\n",
       "       0, 1, 0, 1, 1, 1, 1, 1, 1, 1, 0, 1, 0, 1, 0, 0, 1, 1, 0, 1, 1, 1,\n",
       "       0, 0, 1, 1, 0, 1, 1, 1, 1, 1, 1, 0, 1, 0, 0, 1, 0, 1, 1, 0, 0, 1,\n",
       "       1, 1, 1, 1, 1, 1, 0, 1, 1, 0, 1, 0, 1, 1, 1, 0, 1, 0, 1, 0, 1, 1,\n",
       "       1, 1, 1, 1, 0, 0, 0, 0, 1, 0, 1, 1, 0, 1, 0, 0, 1, 1, 1, 0, 1, 1,\n",
       "       1, 0, 1, 1, 1, 1, 0])"
      ]
     },
     "execution_count": 56,
     "metadata": {},
     "output_type": "execute_result"
    }
   ],
   "source": [
    "y"
   ]
  },
  {
   "cell_type": "code",
   "execution_count": 57,
   "id": "7e50410f",
   "metadata": {},
   "outputs": [],
   "source": [
    "#Numeric columns of the independent variables\n",
    "num_columns = [feature for feature in X.columns if X[feature].dtype != 'O']\n",
    "\n",
    "# categorical variables of the independent variables\n",
    "cat_columns = [feature for feature in X.columns if X[feature].dtype == 'O']"
   ]
  },
  {
   "cell_type": "markdown",
   "id": "9ec49e50",
   "metadata": {},
   "source": [
    "#"
   ]
  },
  {
   "cell_type": "code",
   "execution_count": 58,
   "id": "41343612",
   "metadata": {},
   "outputs": [],
   "source": [
    "# Importing the necessary sklearn package\n",
    "from sklearn.preprocessing import OrdinalEncoder\n",
    "\n",
    "# Creating the ordinal encoder\n",
    "ordicoder = OrdinalEncoder()\n",
    "\n",
    "# Transforming the object data of the dataframe\n",
    "X[['Education']] = ordicoder.fit_transform(X[['Education']])\n",
    "X[['Loan_Amount_Term']] = ordicoder.fit_transform(X[['Loan_Amount_Term']])\n",
    "X[['Property_Area']] = ordicoder.fit_transform(X[['Property_Area']])\n",
    "\n",
    "# Using MinMaxScaler to normalize columns\n",
    "from sklearn.preprocessing import MinMaxScaler\n",
    "scaler = MinMaxScaler()\n",
    "\n",
    "# Using MinMaxScaler on the transformed ordinal columns\n",
    "X[['Education']] =scaler.fit_transform(X[['Education']])\n",
    "X[['Loan_Amount_Term']] =scaler.fit_transform(X[['Loan_Amount_Term']])\n",
    "X[['Property_Area']] =scaler.fit_transform(X[['Property_Area']])"
   ]
  },
  {
   "cell_type": "markdown",
   "id": "e89d3867",
   "metadata": {},
   "source": [
    "Applying ordinal encoder to the ordinal categorical columns of the dataset and scaling the values for better model performance."
   ]
  },
  {
   "cell_type": "markdown",
   "id": "83208b4b",
   "metadata": {},
   "source": [
    "#"
   ]
  },
  {
   "cell_type": "code",
   "execution_count": 59,
   "id": "75b54140",
   "metadata": {},
   "outputs": [
    {
     "name": "stderr",
     "output_type": "stream",
     "text": [
      "C:\\Users\\HP\\anaconda3\\lib\\site-packages\\sklearn\\preprocessing\\_encoders.py:828: FutureWarning: `sparse` was renamed to `sparse_output` in version 1.2 and will be removed in 1.4. `sparse_output` is ignored unless you leave `sparse` to its default value.\n",
      "  warnings.warn(\n",
      "C:\\Users\\HP\\anaconda3\\lib\\site-packages\\sklearn\\preprocessing\\_encoders.py:828: FutureWarning: `sparse` was renamed to `sparse_output` in version 1.2 and will be removed in 1.4. `sparse_output` is ignored unless you leave `sparse` to its default value.\n",
      "  warnings.warn(\n",
      "C:\\Users\\HP\\anaconda3\\lib\\site-packages\\sklearn\\preprocessing\\_encoders.py:828: FutureWarning: `sparse` was renamed to `sparse_output` in version 1.2 and will be removed in 1.4. `sparse_output` is ignored unless you leave `sparse` to its default value.\n",
      "  warnings.warn(\n",
      "C:\\Users\\HP\\anaconda3\\lib\\site-packages\\sklearn\\preprocessing\\_encoders.py:828: FutureWarning: `sparse` was renamed to `sparse_output` in version 1.2 and will be removed in 1.4. `sparse_output` is ignored unless you leave `sparse` to its default value.\n",
      "  warnings.warn(\n",
      "C:\\Users\\HP\\anaconda3\\lib\\site-packages\\sklearn\\preprocessing\\_encoders.py:828: FutureWarning: `sparse` was renamed to `sparse_output` in version 1.2 and will be removed in 1.4. `sparse_output` is ignored unless you leave `sparse` to its default value.\n",
      "  warnings.warn(\n"
     ]
    }
   ],
   "source": [
    "# Importing the necessary sklearn package to encode nominal data\n",
    "from sklearn.preprocessing import OneHotEncoder\n",
    "\n",
    "# Creating the encoder\n",
    "nomcoder = OneHotEncoder(sparse = False)\n",
    "\n",
    "# Transformini the marital-status column\n",
    "#adult_df_2['marital-status'] = nomcoder.fit_transform(adult_df_2['marital-status'].values.reshape(-1,1))\n",
    "X['Gender'] = nomcoder.fit_transform(X['Gender'].values.reshape(-1,1))\n",
    "X['Married'] = nomcoder.fit_transform(X['Married'].values.reshape(-1,1))\n",
    "X['Dependents'] = nomcoder.fit_transform(X['Dependents'].values.reshape(-1,1))\n",
    "X['Self_Employed'] = nomcoder.fit_transform(X['Self_Employed'].values.reshape(-1,1))\n",
    "X['Credit_History'] = nomcoder.fit_transform(X['Credit_History'].values.reshape(-1,1))\n",
    "\n",
    "\n",
    "\n",
    "# Using MinMaxScaler on the transformed nordinal columns\n",
    "X[['Gender']] =scaler.fit_transform(X[['Gender']])\n",
    "X[['Married']] =scaler.fit_transform(X[['Married']])\n",
    "X[['Dependents']] =scaler.fit_transform(X[['Dependents']])\n",
    "X[['Self_Employed']] =scaler.fit_transform(X[['Self_Employed']])\n",
    "X[['Credit_History']] =scaler.fit_transform(X[['Credit_History']])"
   ]
  },
  {
   "cell_type": "markdown",
   "id": "b4f7eb1c",
   "metadata": {},
   "source": [
    "Applying OneHot encoder to the nodinal categorical columns of the dataset and scaling the values for better model performance."
   ]
  },
  {
   "cell_type": "markdown",
   "id": "7a0d8ee0",
   "metadata": {},
   "source": [
    "#"
   ]
  },
  {
   "cell_type": "code",
   "execution_count": 60,
   "id": "9297d1f1",
   "metadata": {},
   "outputs": [],
   "source": [
    "# Using MinMaxScaler to normalize numerical columns\n",
    "\n",
    "X[['ApplicantIncome']] =scaler.fit_transform(X[['ApplicantIncome']]) # Scaling the ApplicantIncome column\n",
    "\n",
    "X[['CoapplicantIncome']] =scaler.fit_transform(X[['CoapplicantIncome']]) # Scaling the CoapplicantIncome column\n",
    "\n",
    "X[['LoanAmount']] =scaler.fit_transform(X[['LoanAmount']]) # Scaling the LoanAmount column"
   ]
  },
  {
   "cell_type": "markdown",
   "id": "cc45617b",
   "metadata": {},
   "source": [
    "Scaling the numeric columns"
   ]
  },
  {
   "cell_type": "markdown",
   "id": "cf42d510",
   "metadata": {},
   "source": [
    "#"
   ]
  },
  {
   "cell_type": "code",
   "execution_count": 61,
   "id": "f9887581",
   "metadata": {},
   "outputs": [],
   "source": [
    "# Applying Synthetic Minority Oversampling Technique \"SMOTE\" to handle the imbalance in the dataset\n",
    "from imblearn.over_sampling import SMOTE # Importing the necessary library to perform SMOTE\n",
    "\n",
    "# Defining the oversampling to be used\n",
    "sm = SMOTE(sampling_strategy='minority', random_state=42, k_neighbors=5)"
   ]
  },
  {
   "cell_type": "markdown",
   "id": "a07b06c7",
   "metadata": {},
   "source": [
    "Due to the imbalance between the granted and declined class, in the dataset, SMOTE was implemented to oversample the minority class to create the balance."
   ]
  },
  {
   "cell_type": "code",
   "execution_count": 62,
   "id": "19287eaf",
   "metadata": {},
   "outputs": [],
   "source": [
    "# Fitting the features and target data into SMOTE for oversampling\n",
    "X, y = sm.fit_resample(X, y)"
   ]
  },
  {
   "cell_type": "code",
   "execution_count": 63,
   "id": "3fdf50b1",
   "metadata": {},
   "outputs": [
    {
     "data": {
      "text/plain": [
       "((542, 11), (542,))"
      ]
     },
     "execution_count": 63,
     "metadata": {},
     "output_type": "execute_result"
    }
   ],
   "source": [
    "# Viewing the shape of the data after oversampling\n",
    "X.shape, y.shape"
   ]
  },
  {
   "cell_type": "code",
   "execution_count": 64,
   "id": "a7ccb8c2",
   "metadata": {},
   "outputs": [],
   "source": [
    "# Step 1: Importing the necessary packages and libraries \n",
    "from sklearn import svm\n",
    "from sklearn.ensemble import RandomForestClassifier\n",
    "from sklearn.neighbors import KNeighborsClassifier\n",
    "from sklearn.tree import DecisionTreeClassifier\n",
    "from sklearn.linear_model import LogisticRegression\n",
    "from sklearn.ensemble import AdaBoostClassifier\n",
    "from sklearn.naive_bayes import GaussianNB"
   ]
  },
  {
   "cell_type": "code",
   "execution_count": 65,
   "id": "fc86af99",
   "metadata": {},
   "outputs": [],
   "source": [
    "from sklearn.metrics import accuracy_score, classification_report, precision_score, recall_score, f1_score, roc_auc_score, roc_curve"
   ]
  },
  {
   "cell_type": "code",
   "execution_count": 66,
   "id": "158afc3f",
   "metadata": {},
   "outputs": [],
   "source": [
    "# Importing the necessary package for cross validation\n",
    "from sklearn.model_selection import cross_val_score"
   ]
  },
  {
   "cell_type": "code",
   "execution_count": 67,
   "id": "016c2102",
   "metadata": {},
   "outputs": [
    {
     "name": "stdout",
     "output_type": "stream",
     "text": [
      "SVM  0.7656812776078832\n",
      "RF  0.8618076792388718\n",
      "KNN  0.8118246687054025\n",
      "DT  0.8119435949711178\n",
      "LR  0.7527862725110432\n",
      "AdaBoost  0.799048589874278\n",
      "NB  0.7509683995922527\n"
     ]
    }
   ],
   "source": [
    "# Implementing cross validation on the models\n",
    "print(\"SVM \", cross_val_score(svm.SVC(), X, y).mean())\n",
    "print(\"RF \", cross_val_score(RandomForestClassifier(), X, y).mean())\n",
    "print(\"KNN \", cross_val_score(KNeighborsClassifier(), X, y).mean())\n",
    "print(\"DT \",cross_val_score(DecisionTreeClassifier(), X, y).mean())\n",
    "print(\"LR \", cross_val_score(LogisticRegression(), X, y).mean())\n",
    "print(\"AdaBoost \", cross_val_score(AdaBoostClassifier(n_estimators=50, learning_rate=1, random_state=42), X, y).mean())\n",
    "print(\"NB \", cross_val_score(GaussianNB(), X, y).mean())"
   ]
  },
  {
   "cell_type": "code",
   "execution_count": 68,
   "id": "33173283",
   "metadata": {},
   "outputs": [],
   "source": [
    "# splittig the dataset into train and test datasets\n",
    "from sklearn.model_selection import train_test_split\n",
    "X_train, X_test, y_train, y_test = train_test_split(X, y, test_size=0.3, random_state=42)"
   ]
  },
  {
   "cell_type": "markdown",
   "id": "f7c78f2a",
   "metadata": {},
   "source": [
    "The dataset was split into train and test dataset for model development"
   ]
  },
  {
   "cell_type": "markdown",
   "id": "388ddfd5",
   "metadata": {},
   "source": [
    "#"
   ]
  },
  {
   "cell_type": "code",
   "execution_count": 69,
   "id": "6d326b63",
   "metadata": {
    "scrolled": false
   },
   "outputs": [
    {
     "name": "stdout",
     "output_type": "stream",
     "text": [
      "SVM\n",
      "Model performance for Training set\n",
      "Accuracy: 0.7863\n",
      "F1 score: 0.7772\n",
      "Precision: 0.7143\n",
      "Recall: 0.9744\n",
      "ROC AUC score: 0.7807\n",
      "-----------------------------------------------\n",
      "Model performance for Test set\n",
      "Accuracy: 0.7362\n",
      "F1 score: 0.7277\n",
      "Precision: 0.6486\n",
      "Recall: 0.9474\n",
      "ROC AUC score: 0.7495\n",
      "===================================\n",
      "\n",
      "\n",
      "RF\n",
      "Model performance for Training set\n",
      "Accuracy: 1.0000\n",
      "F1 score: 1.0000\n",
      "Precision: 1.0000\n",
      "Recall: 1.0000\n",
      "ROC AUC score: 1.0000\n",
      "-----------------------------------------------\n",
      "Model performance for Test set\n",
      "Accuracy: 0.8712\n",
      "F1 score: 0.8709\n",
      "Precision: 0.8022\n",
      "Recall: 0.9605\n",
      "ROC AUC score: 0.8768\n",
      "===================================\n",
      "\n",
      "\n",
      "KNN\n",
      "Model performance for Training set\n",
      "Accuracy: 0.8654\n",
      "F1 score: 0.8646\n",
      "Precision: 0.8273\n",
      "Recall: 0.9333\n",
      "ROC AUC score: 0.8634\n",
      "-----------------------------------------------\n",
      "Model performance for Test set\n",
      "Accuracy: 0.7975\n",
      "F1 score: 0.7973\n",
      "Precision: 0.7416\n",
      "Recall: 0.8684\n",
      "ROC AUC score: 0.8020\n",
      "===================================\n",
      "\n",
      "\n",
      "DT\n",
      "Model performance for Training set\n",
      "Accuracy: 1.0000\n",
      "F1 score: 1.0000\n",
      "Precision: 1.0000\n",
      "Recall: 1.0000\n",
      "ROC AUC score: 1.0000\n",
      "-----------------------------------------------\n",
      "Model performance for Test set\n",
      "Accuracy: 0.8344\n",
      "F1 score: 0.8345\n",
      "Precision: 0.8025\n",
      "Recall: 0.8553\n",
      "ROC AUC score: 0.8357\n",
      "===================================\n",
      "\n",
      "\n",
      "LR\n",
      "Model performance for Training set\n",
      "Accuracy: 0.7546\n",
      "F1 score: 0.7411\n",
      "Precision: 0.6848\n",
      "Recall: 0.9692\n",
      "ROC AUC score: 0.7482\n",
      "-----------------------------------------------\n",
      "Model performance for Test set\n",
      "Accuracy: 0.7301\n",
      "F1 score: 0.7207\n",
      "Precision: 0.6429\n",
      "Recall: 0.9474\n",
      "ROC AUC score: 0.7438\n",
      "===================================\n",
      "\n",
      "\n",
      "AdaBoost\n",
      "Model performance for Training set\n",
      "Accuracy: 0.8892\n",
      "F1 score: 0.8888\n",
      "Precision: 0.8592\n",
      "Recall: 0.9385\n",
      "ROC AUC score: 0.8877\n",
      "-----------------------------------------------\n",
      "Model performance for Test set\n",
      "Accuracy: 0.8160\n",
      "F1 score: 0.8159\n",
      "Precision: 0.7614\n",
      "Recall: 0.8816\n",
      "ROC AUC score: 0.8201\n",
      "===================================\n",
      "\n",
      "\n",
      "NB\n",
      "Model performance for Training set\n",
      "Accuracy: 0.7573\n",
      "F1 score: 0.7415\n",
      "Precision: 0.6820\n",
      "Recall: 0.9897\n",
      "ROC AUC score: 0.7503\n",
      "-----------------------------------------------\n",
      "Model performance for Test set\n",
      "Accuracy: 0.7423\n",
      "F1 score: 0.7321\n",
      "Precision: 0.6491\n",
      "Recall: 0.9737\n",
      "ROC AUC score: 0.7570\n",
      "===================================\n",
      "\n",
      "\n"
     ]
    }
   ],
   "source": [
    "# Developing the models for further evaluation\n",
    "\n",
    "# Defining the models\n",
    "models = {\n",
    "    \"SVM\":svm.SVC(),\n",
    "    \"RF\":RandomForestClassifier(random_state=42),\n",
    "    \"KNN\":KNeighborsClassifier(),\n",
    "    \"DT\":DecisionTreeClassifier(),\n",
    "    \"LR\":LogisticRegression(),\n",
    "    \"AdaBoost\":AdaBoostClassifier(n_estimators=50, learning_rate=1, random_state=42),\n",
    "    \"NB\":GaussianNB()\n",
    "}\n",
    "for i in range(len(list(models))):\n",
    "    model=list(models.values())[i]\n",
    "    model.fit(X_train, y_train) # Training the models\n",
    "    \n",
    "    # Making predictions\n",
    "    y_train_pred=model.predict(X_train)\n",
    "    y_test_pred=model.predict(X_test)\n",
    "    \n",
    "    # Training set performance\n",
    "    model_train_accuracy=accuracy_score(y_train, y_train_pred)\n",
    "    model_train_f1 = f1_score(y_train, y_train_pred, average='weighted')\n",
    "    model_train_precision = precision_score(y_train, y_train_pred)\n",
    "    model_train_recall = recall_score(y_train, y_train_pred)\n",
    "    model_train_rocauc_score = roc_auc_score(y_train, y_train_pred)\n",
    "    \n",
    "     # Test set performance\n",
    "    model_test_accuracy=accuracy_score(y_test, y_test_pred)\n",
    "    model_test_f1 = f1_score(y_test, y_test_pred, average='weighted')\n",
    "    model_test_precision = precision_score(y_test, y_test_pred)\n",
    "    model_test_recall = recall_score(y_test, y_test_pred)\n",
    "    model_test_rocauc_score = roc_auc_score(y_test, y_test_pred)\n",
    "    \n",
    "    # Displaying the evaluation values\n",
    "    print(list(models.keys())[i])\n",
    "    \n",
    "    print(\"Model performance for Training set\")\n",
    "    print(\"Accuracy: {:.4f}\" .format(model_train_accuracy))\n",
    "    print(\"F1 score: {:.4f}\" .format(model_train_f1))\n",
    "    print(\"Precision: {:.4f}\" .format(model_train_precision))\n",
    "    print(\"Recall: {:.4f}\" .format(model_train_recall))\n",
    "    print(\"ROC AUC score: {:.4f}\" .format(model_train_rocauc_score))\n",
    "    \n",
    "    print('-----------------------------------------------')\n",
    "    \n",
    "    print(\"Model performance for Test set\")\n",
    "    print(\"Accuracy: {:.4f}\" .format(model_test_accuracy))\n",
    "    print(\"F1 score: {:.4f}\" .format(model_test_f1))\n",
    "    print(\"Precision: {:.4f}\" .format(model_test_precision))\n",
    "    print(\"Recall: {:.4f}\" .format(model_test_recall))\n",
    "    print(\"ROC AUC score: {:.4f}\" .format(model_test_rocauc_score))\n",
    "    \n",
    "    \n",
    "    print('='*35)\n",
    "    print('\\n')"
   ]
  },
  {
   "cell_type": "code",
   "execution_count": 70,
   "id": "9dc563d7",
   "metadata": {},
   "outputs": [],
   "source": [
    "# Setting tuning range\n",
    "rf_params = {\n",
    "    \"n_estimators\":[100, 200, 300],\n",
    "    \"max_features\":[5, 7, \"auto\", 8],\n",
    "    \"min_samples_split\":[2, 8, 15, 20],\n",
    "    \"max_depth\":[5, 8, 15, None, 10]\n",
    "}"
   ]
  },
  {
   "cell_type": "code",
   "execution_count": 71,
   "id": "880fbcef",
   "metadata": {},
   "outputs": [
    {
     "data": {
      "text/plain": [
       "{'n_estimators': [100, 200, 300],\n",
       " 'max_features': [5, 7, 'auto', 8],\n",
       " 'min_samples_split': [2, 8, 15, 20],\n",
       " 'max_depth': [5, 8, 15, None, 10]}"
      ]
     },
     "execution_count": 71,
     "metadata": {},
     "output_type": "execute_result"
    }
   ],
   "source": [
    "rf_params"
   ]
  },
  {
   "cell_type": "code",
   "execution_count": 72,
   "id": "37c9b4b5",
   "metadata": {},
   "outputs": [
    {
     "data": {
      "text/plain": [
       "['RF',\n",
       " RandomForestClassifier(random_state=42),\n",
       " {'n_estimators': [100, 200, 300],\n",
       "  'max_features': [5, 7, 'auto', 8],\n",
       "  'min_samples_split': [2, 8, 15, 20],\n",
       "  'max_depth': [5, 8, 15, None, 10]}]"
      ]
     },
     "execution_count": 72,
     "metadata": {},
     "output_type": "execute_result"
    }
   ],
   "source": [
    "randomcv_models = [\"RF\", RandomForestClassifier(random_state=42), rf_params]\n",
    "randomcv_models"
   ]
  },
  {
   "cell_type": "code",
   "execution_count": 73,
   "id": "d18700fd",
   "metadata": {},
   "outputs": [],
   "source": [
    "RF=RandomForestClassifier(random_state=42)"
   ]
  },
  {
   "cell_type": "code",
   "execution_count": 74,
   "id": "b790e939",
   "metadata": {},
   "outputs": [],
   "source": [
    "from sklearn.model_selection import GridSearchCV\n",
    "GS = GridSearchCV(estimator=RF,\n",
    "                  param_grid = rf_params,\n",
    "                  #scoring=[\"accuracy_score\", \"classification_report\", \"precision_score\", \"recall_score\", \"f1_score\", \"roc_auc_score\", \"roc_curve\"]\n",
    "                  cv=5,\n",
    "                  verbose=2,\n",
    "                  n_jobs=-1)"
   ]
  },
  {
   "cell_type": "code",
   "execution_count": 75,
   "id": "bbd77e29",
   "metadata": {},
   "outputs": [
    {
     "name": "stdout",
     "output_type": "stream",
     "text": [
      "Fitting 5 folds for each of 240 candidates, totalling 1200 fits\n"
     ]
    },
    {
     "name": "stderr",
     "output_type": "stream",
     "text": [
      "C:\\Users\\HP\\anaconda3\\lib\\site-packages\\sklearn\\ensemble\\_forest.py:424: FutureWarning: `max_features='auto'` has been deprecated in 1.1 and will be removed in 1.3. To keep the past behaviour, explicitly set `max_features='sqrt'` or remove this parameter as it is also the default value for RandomForestClassifiers and ExtraTreesClassifiers.\n",
      "  warn(\n"
     ]
    },
    {
     "data": {
      "text/html": [
       "<style>#sk-container-id-1 {color: black;background-color: white;}#sk-container-id-1 pre{padding: 0;}#sk-container-id-1 div.sk-toggleable {background-color: white;}#sk-container-id-1 label.sk-toggleable__label {cursor: pointer;display: block;width: 100%;margin-bottom: 0;padding: 0.3em;box-sizing: border-box;text-align: center;}#sk-container-id-1 label.sk-toggleable__label-arrow:before {content: \"▸\";float: left;margin-right: 0.25em;color: #696969;}#sk-container-id-1 label.sk-toggleable__label-arrow:hover:before {color: black;}#sk-container-id-1 div.sk-estimator:hover label.sk-toggleable__label-arrow:before {color: black;}#sk-container-id-1 div.sk-toggleable__content {max-height: 0;max-width: 0;overflow: hidden;text-align: left;background-color: #f0f8ff;}#sk-container-id-1 div.sk-toggleable__content pre {margin: 0.2em;color: black;border-radius: 0.25em;background-color: #f0f8ff;}#sk-container-id-1 input.sk-toggleable__control:checked~div.sk-toggleable__content {max-height: 200px;max-width: 100%;overflow: auto;}#sk-container-id-1 input.sk-toggleable__control:checked~label.sk-toggleable__label-arrow:before {content: \"▾\";}#sk-container-id-1 div.sk-estimator input.sk-toggleable__control:checked~label.sk-toggleable__label {background-color: #d4ebff;}#sk-container-id-1 div.sk-label input.sk-toggleable__control:checked~label.sk-toggleable__label {background-color: #d4ebff;}#sk-container-id-1 input.sk-hidden--visually {border: 0;clip: rect(1px 1px 1px 1px);clip: rect(1px, 1px, 1px, 1px);height: 1px;margin: -1px;overflow: hidden;padding: 0;position: absolute;width: 1px;}#sk-container-id-1 div.sk-estimator {font-family: monospace;background-color: #f0f8ff;border: 1px dotted black;border-radius: 0.25em;box-sizing: border-box;margin-bottom: 0.5em;}#sk-container-id-1 div.sk-estimator:hover {background-color: #d4ebff;}#sk-container-id-1 div.sk-parallel-item::after {content: \"\";width: 100%;border-bottom: 1px solid gray;flex-grow: 1;}#sk-container-id-1 div.sk-label:hover label.sk-toggleable__label {background-color: #d4ebff;}#sk-container-id-1 div.sk-serial::before {content: \"\";position: absolute;border-left: 1px solid gray;box-sizing: border-box;top: 0;bottom: 0;left: 50%;z-index: 0;}#sk-container-id-1 div.sk-serial {display: flex;flex-direction: column;align-items: center;background-color: white;padding-right: 0.2em;padding-left: 0.2em;position: relative;}#sk-container-id-1 div.sk-item {position: relative;z-index: 1;}#sk-container-id-1 div.sk-parallel {display: flex;align-items: stretch;justify-content: center;background-color: white;position: relative;}#sk-container-id-1 div.sk-item::before, #sk-container-id-1 div.sk-parallel-item::before {content: \"\";position: absolute;border-left: 1px solid gray;box-sizing: border-box;top: 0;bottom: 0;left: 50%;z-index: -1;}#sk-container-id-1 div.sk-parallel-item {display: flex;flex-direction: column;z-index: 1;position: relative;background-color: white;}#sk-container-id-1 div.sk-parallel-item:first-child::after {align-self: flex-end;width: 50%;}#sk-container-id-1 div.sk-parallel-item:last-child::after {align-self: flex-start;width: 50%;}#sk-container-id-1 div.sk-parallel-item:only-child::after {width: 0;}#sk-container-id-1 div.sk-dashed-wrapped {border: 1px dashed gray;margin: 0 0.4em 0.5em 0.4em;box-sizing: border-box;padding-bottom: 0.4em;background-color: white;}#sk-container-id-1 div.sk-label label {font-family: monospace;font-weight: bold;display: inline-block;line-height: 1.2em;}#sk-container-id-1 div.sk-label-container {text-align: center;}#sk-container-id-1 div.sk-container {/* jupyter's `normalize.less` sets `[hidden] { display: none; }` but bootstrap.min.css set `[hidden] { display: none !important; }` so we also need the `!important` here to be able to override the default hidden behavior on the sphinx rendered scikit-learn.org. See: https://github.com/scikit-learn/scikit-learn/issues/21755 */display: inline-block !important;position: relative;}#sk-container-id-1 div.sk-text-repr-fallback {display: none;}</style><div id=\"sk-container-id-1\" class=\"sk-top-container\"><div class=\"sk-text-repr-fallback\"><pre>GridSearchCV(cv=5, estimator=RandomForestClassifier(random_state=42), n_jobs=-1,\n",
       "             param_grid={&#x27;max_depth&#x27;: [5, 8, 15, None, 10],\n",
       "                         &#x27;max_features&#x27;: [5, 7, &#x27;auto&#x27;, 8],\n",
       "                         &#x27;min_samples_split&#x27;: [2, 8, 15, 20],\n",
       "                         &#x27;n_estimators&#x27;: [100, 200, 300]},\n",
       "             verbose=2)</pre><b>In a Jupyter environment, please rerun this cell to show the HTML representation or trust the notebook. <br />On GitHub, the HTML representation is unable to render, please try loading this page with nbviewer.org.</b></div><div class=\"sk-container\" hidden><div class=\"sk-item sk-dashed-wrapped\"><div class=\"sk-label-container\"><div class=\"sk-label sk-toggleable\"><input class=\"sk-toggleable__control sk-hidden--visually\" id=\"sk-estimator-id-1\" type=\"checkbox\" ><label for=\"sk-estimator-id-1\" class=\"sk-toggleable__label sk-toggleable__label-arrow\">GridSearchCV</label><div class=\"sk-toggleable__content\"><pre>GridSearchCV(cv=5, estimator=RandomForestClassifier(random_state=42), n_jobs=-1,\n",
       "             param_grid={&#x27;max_depth&#x27;: [5, 8, 15, None, 10],\n",
       "                         &#x27;max_features&#x27;: [5, 7, &#x27;auto&#x27;, 8],\n",
       "                         &#x27;min_samples_split&#x27;: [2, 8, 15, 20],\n",
       "                         &#x27;n_estimators&#x27;: [100, 200, 300]},\n",
       "             verbose=2)</pre></div></div></div><div class=\"sk-parallel\"><div class=\"sk-parallel-item\"><div class=\"sk-item\"><div class=\"sk-label-container\"><div class=\"sk-label sk-toggleable\"><input class=\"sk-toggleable__control sk-hidden--visually\" id=\"sk-estimator-id-2\" type=\"checkbox\" ><label for=\"sk-estimator-id-2\" class=\"sk-toggleable__label sk-toggleable__label-arrow\">estimator: RandomForestClassifier</label><div class=\"sk-toggleable__content\"><pre>RandomForestClassifier(random_state=42)</pre></div></div></div><div class=\"sk-serial\"><div class=\"sk-item\"><div class=\"sk-estimator sk-toggleable\"><input class=\"sk-toggleable__control sk-hidden--visually\" id=\"sk-estimator-id-3\" type=\"checkbox\" ><label for=\"sk-estimator-id-3\" class=\"sk-toggleable__label sk-toggleable__label-arrow\">RandomForestClassifier</label><div class=\"sk-toggleable__content\"><pre>RandomForestClassifier(random_state=42)</pre></div></div></div></div></div></div></div></div></div></div>"
      ],
      "text/plain": [
       "GridSearchCV(cv=5, estimator=RandomForestClassifier(random_state=42), n_jobs=-1,\n",
       "             param_grid={'max_depth': [5, 8, 15, None, 10],\n",
       "                         'max_features': [5, 7, 'auto', 8],\n",
       "                         'min_samples_split': [2, 8, 15, 20],\n",
       "                         'n_estimators': [100, 200, 300]},\n",
       "             verbose=2)"
      ]
     },
     "execution_count": 75,
     "metadata": {},
     "output_type": "execute_result"
    }
   ],
   "source": [
    "GS.fit(X_train, y_train)"
   ]
  },
  {
   "cell_type": "code",
   "execution_count": 76,
   "id": "a72d13a5",
   "metadata": {},
   "outputs": [
    {
     "name": "stdout",
     "output_type": "stream",
     "text": [
      "RandomForestClassifier(max_depth=15, max_features='auto', random_state=42)\n"
     ]
    }
   ],
   "source": [
    "print(GS.best_estimator_)"
   ]
  },
  {
   "cell_type": "code",
   "execution_count": 77,
   "id": "75b9f4dd",
   "metadata": {},
   "outputs": [
    {
     "name": "stdout",
     "output_type": "stream",
     "text": [
      "{'max_depth': 15, 'max_features': 'auto', 'min_samples_split': 2, 'n_estimators': 100}\n"
     ]
    }
   ],
   "source": [
    "print(GS.best_params_)"
   ]
  },
  {
   "cell_type": "code",
   "execution_count": 78,
   "id": "d29840bb",
   "metadata": {},
   "outputs": [
    {
     "name": "stdout",
     "output_type": "stream",
     "text": [
      "0.8548771929824561\n"
     ]
    }
   ],
   "source": [
    "print(GS.best_score_)"
   ]
  },
  {
   "cell_type": "code",
   "execution_count": 79,
   "id": "bfaf14f8",
   "metadata": {},
   "outputs": [
    {
     "data": {
      "text/html": [
       "<div>\n",
       "<style scoped>\n",
       "    .dataframe tbody tr th:only-of-type {\n",
       "        vertical-align: middle;\n",
       "    }\n",
       "\n",
       "    .dataframe tbody tr th {\n",
       "        vertical-align: top;\n",
       "    }\n",
       "\n",
       "    .dataframe thead th {\n",
       "        text-align: right;\n",
       "    }\n",
       "</style>\n",
       "<table border=\"1\" class=\"dataframe\">\n",
       "  <thead>\n",
       "    <tr style=\"text-align: right;\">\n",
       "      <th></th>\n",
       "      <th>mean_fit_time</th>\n",
       "      <th>std_fit_time</th>\n",
       "      <th>mean_score_time</th>\n",
       "      <th>std_score_time</th>\n",
       "      <th>param_max_depth</th>\n",
       "      <th>param_max_features</th>\n",
       "      <th>param_min_samples_split</th>\n",
       "      <th>param_n_estimators</th>\n",
       "      <th>params</th>\n",
       "      <th>split0_test_score</th>\n",
       "      <th>split1_test_score</th>\n",
       "      <th>split2_test_score</th>\n",
       "      <th>split3_test_score</th>\n",
       "      <th>split4_test_score</th>\n",
       "      <th>mean_test_score</th>\n",
       "      <th>std_test_score</th>\n",
       "      <th>rank_test_score</th>\n",
       "    </tr>\n",
       "  </thead>\n",
       "  <tbody>\n",
       "    <tr>\n",
       "      <th>0</th>\n",
       "      <td>0.477627</td>\n",
       "      <td>0.048097</td>\n",
       "      <td>0.036226</td>\n",
       "      <td>0.011100</td>\n",
       "      <td>5</td>\n",
       "      <td>5</td>\n",
       "      <td>2</td>\n",
       "      <td>100</td>\n",
       "      <td>{'max_depth': 5, 'max_features': 5, 'min_sampl...</td>\n",
       "      <td>0.828947</td>\n",
       "      <td>0.855263</td>\n",
       "      <td>0.855263</td>\n",
       "      <td>0.710526</td>\n",
       "      <td>0.840000</td>\n",
       "      <td>0.818000</td>\n",
       "      <td>0.054647</td>\n",
       "      <td>178</td>\n",
       "    </tr>\n",
       "    <tr>\n",
       "      <th>1</th>\n",
       "      <td>1.024162</td>\n",
       "      <td>0.150802</td>\n",
       "      <td>0.066039</td>\n",
       "      <td>0.015751</td>\n",
       "      <td>5</td>\n",
       "      <td>5</td>\n",
       "      <td>2</td>\n",
       "      <td>200</td>\n",
       "      <td>{'max_depth': 5, 'max_features': 5, 'min_sampl...</td>\n",
       "      <td>0.842105</td>\n",
       "      <td>0.868421</td>\n",
       "      <td>0.855263</td>\n",
       "      <td>0.723684</td>\n",
       "      <td>0.840000</td>\n",
       "      <td>0.825895</td>\n",
       "      <td>0.052115</td>\n",
       "      <td>133</td>\n",
       "    </tr>\n",
       "    <tr>\n",
       "      <th>2</th>\n",
       "      <td>1.456912</td>\n",
       "      <td>0.200563</td>\n",
       "      <td>0.090131</td>\n",
       "      <td>0.015864</td>\n",
       "      <td>5</td>\n",
       "      <td>5</td>\n",
       "      <td>2</td>\n",
       "      <td>300</td>\n",
       "      <td>{'max_depth': 5, 'max_features': 5, 'min_sampl...</td>\n",
       "      <td>0.842105</td>\n",
       "      <td>0.855263</td>\n",
       "      <td>0.855263</td>\n",
       "      <td>0.684211</td>\n",
       "      <td>0.853333</td>\n",
       "      <td>0.818035</td>\n",
       "      <td>0.067091</td>\n",
       "      <td>176</td>\n",
       "    </tr>\n",
       "    <tr>\n",
       "      <th>3</th>\n",
       "      <td>0.519349</td>\n",
       "      <td>0.075195</td>\n",
       "      <td>0.030577</td>\n",
       "      <td>0.005742</td>\n",
       "      <td>5</td>\n",
       "      <td>5</td>\n",
       "      <td>8</td>\n",
       "      <td>100</td>\n",
       "      <td>{'max_depth': 5, 'max_features': 5, 'min_sampl...</td>\n",
       "      <td>0.789474</td>\n",
       "      <td>0.881579</td>\n",
       "      <td>0.868421</td>\n",
       "      <td>0.671053</td>\n",
       "      <td>0.840000</td>\n",
       "      <td>0.810105</td>\n",
       "      <td>0.076373</td>\n",
       "      <td>210</td>\n",
       "    </tr>\n",
       "    <tr>\n",
       "      <th>4</th>\n",
       "      <td>1.048362</td>\n",
       "      <td>0.093179</td>\n",
       "      <td>0.071627</td>\n",
       "      <td>0.012566</td>\n",
       "      <td>5</td>\n",
       "      <td>5</td>\n",
       "      <td>8</td>\n",
       "      <td>200</td>\n",
       "      <td>{'max_depth': 5, 'max_features': 5, 'min_sampl...</td>\n",
       "      <td>0.828947</td>\n",
       "      <td>0.868421</td>\n",
       "      <td>0.855263</td>\n",
       "      <td>0.671053</td>\n",
       "      <td>0.826667</td>\n",
       "      <td>0.810070</td>\n",
       "      <td>0.071281</td>\n",
       "      <td>215</td>\n",
       "    </tr>\n",
       "  </tbody>\n",
       "</table>\n",
       "</div>"
      ],
      "text/plain": [
       "   mean_fit_time  std_fit_time  mean_score_time  std_score_time  \\\n",
       "0       0.477627      0.048097         0.036226        0.011100   \n",
       "1       1.024162      0.150802         0.066039        0.015751   \n",
       "2       1.456912      0.200563         0.090131        0.015864   \n",
       "3       0.519349      0.075195         0.030577        0.005742   \n",
       "4       1.048362      0.093179         0.071627        0.012566   \n",
       "\n",
       "  param_max_depth param_max_features param_min_samples_split  \\\n",
       "0               5                  5                       2   \n",
       "1               5                  5                       2   \n",
       "2               5                  5                       2   \n",
       "3               5                  5                       8   \n",
       "4               5                  5                       8   \n",
       "\n",
       "  param_n_estimators                                             params  \\\n",
       "0                100  {'max_depth': 5, 'max_features': 5, 'min_sampl...   \n",
       "1                200  {'max_depth': 5, 'max_features': 5, 'min_sampl...   \n",
       "2                300  {'max_depth': 5, 'max_features': 5, 'min_sampl...   \n",
       "3                100  {'max_depth': 5, 'max_features': 5, 'min_sampl...   \n",
       "4                200  {'max_depth': 5, 'max_features': 5, 'min_sampl...   \n",
       "\n",
       "   split0_test_score  split1_test_score  split2_test_score  split3_test_score  \\\n",
       "0           0.828947           0.855263           0.855263           0.710526   \n",
       "1           0.842105           0.868421           0.855263           0.723684   \n",
       "2           0.842105           0.855263           0.855263           0.684211   \n",
       "3           0.789474           0.881579           0.868421           0.671053   \n",
       "4           0.828947           0.868421           0.855263           0.671053   \n",
       "\n",
       "   split4_test_score  mean_test_score  std_test_score  rank_test_score  \n",
       "0           0.840000         0.818000        0.054647              178  \n",
       "1           0.840000         0.825895        0.052115              133  \n",
       "2           0.853333         0.818035        0.067091              176  \n",
       "3           0.840000         0.810105        0.076373              210  \n",
       "4           0.826667         0.810070        0.071281              215  "
      ]
     },
     "execution_count": 79,
     "metadata": {},
     "output_type": "execute_result"
    }
   ],
   "source": [
    "df = pd.DataFrame(GS.cv_results_)\n",
    "df.head()"
   ]
  },
  {
   "cell_type": "code",
   "execution_count": 80,
   "id": "fa530813",
   "metadata": {},
   "outputs": [
    {
     "data": {
      "text/html": [
       "<div>\n",
       "<style scoped>\n",
       "    .dataframe tbody tr th:only-of-type {\n",
       "        vertical-align: middle;\n",
       "    }\n",
       "\n",
       "    .dataframe tbody tr th {\n",
       "        vertical-align: top;\n",
       "    }\n",
       "\n",
       "    .dataframe thead th {\n",
       "        text-align: right;\n",
       "    }\n",
       "</style>\n",
       "<table border=\"1\" class=\"dataframe\">\n",
       "  <thead>\n",
       "    <tr style=\"text-align: right;\">\n",
       "      <th></th>\n",
       "      <th>mean_fit_time</th>\n",
       "      <th>std_fit_time</th>\n",
       "      <th>mean_score_time</th>\n",
       "      <th>std_score_time</th>\n",
       "      <th>param_max_depth</th>\n",
       "      <th>param_max_features</th>\n",
       "      <th>param_min_samples_split</th>\n",
       "      <th>param_n_estimators</th>\n",
       "      <th>params</th>\n",
       "      <th>split0_test_score</th>\n",
       "      <th>split1_test_score</th>\n",
       "      <th>split2_test_score</th>\n",
       "      <th>split3_test_score</th>\n",
       "      <th>split4_test_score</th>\n",
       "      <th>mean_test_score</th>\n",
       "      <th>std_test_score</th>\n",
       "      <th>rank_test_score</th>\n",
       "    </tr>\n",
       "  </thead>\n",
       "  <tbody>\n",
       "    <tr>\n",
       "      <th>120</th>\n",
       "      <td>0.635498</td>\n",
       "      <td>0.021256</td>\n",
       "      <td>0.034603</td>\n",
       "      <td>0.003945</td>\n",
       "      <td>15</td>\n",
       "      <td>auto</td>\n",
       "      <td>2</td>\n",
       "      <td>100</td>\n",
       "      <td>{'max_depth': 15, 'max_features': 'auto', 'min...</td>\n",
       "      <td>0.828947</td>\n",
       "      <td>0.921053</td>\n",
       "      <td>0.842105</td>\n",
       "      <td>0.828947</td>\n",
       "      <td>0.853333</td>\n",
       "      <td>0.854877</td>\n",
       "      <td>0.034320</td>\n",
       "      <td>1</td>\n",
       "    </tr>\n",
       "    <tr>\n",
       "      <th>168</th>\n",
       "      <td>0.539736</td>\n",
       "      <td>0.039814</td>\n",
       "      <td>0.032195</td>\n",
       "      <td>0.004053</td>\n",
       "      <td>None</td>\n",
       "      <td>auto</td>\n",
       "      <td>2</td>\n",
       "      <td>100</td>\n",
       "      <td>{'max_depth': None, 'max_features': 'auto', 'm...</td>\n",
       "      <td>0.828947</td>\n",
       "      <td>0.921053</td>\n",
       "      <td>0.842105</td>\n",
       "      <td>0.828947</td>\n",
       "      <td>0.853333</td>\n",
       "      <td>0.854877</td>\n",
       "      <td>0.034320</td>\n",
       "      <td>1</td>\n",
       "    </tr>\n",
       "    <tr>\n",
       "      <th>49</th>\n",
       "      <td>1.031917</td>\n",
       "      <td>0.051770</td>\n",
       "      <td>0.062002</td>\n",
       "      <td>0.002697</td>\n",
       "      <td>8</td>\n",
       "      <td>5</td>\n",
       "      <td>2</td>\n",
       "      <td>200</td>\n",
       "      <td>{'max_depth': 8, 'max_features': 5, 'min_sampl...</td>\n",
       "      <td>0.828947</td>\n",
       "      <td>0.921053</td>\n",
       "      <td>0.815789</td>\n",
       "      <td>0.802632</td>\n",
       "      <td>0.880000</td>\n",
       "      <td>0.849684</td>\n",
       "      <td>0.044284</td>\n",
       "      <td>3</td>\n",
       "    </tr>\n",
       "    <tr>\n",
       "      <th>97</th>\n",
       "      <td>1.271402</td>\n",
       "      <td>0.285977</td>\n",
       "      <td>0.088584</td>\n",
       "      <td>0.026510</td>\n",
       "      <td>15</td>\n",
       "      <td>5</td>\n",
       "      <td>2</td>\n",
       "      <td>200</td>\n",
       "      <td>{'max_depth': 15, 'max_features': 5, 'min_samp...</td>\n",
       "      <td>0.842105</td>\n",
       "      <td>0.894737</td>\n",
       "      <td>0.828947</td>\n",
       "      <td>0.815789</td>\n",
       "      <td>0.866667</td>\n",
       "      <td>0.849649</td>\n",
       "      <td>0.028123</td>\n",
       "      <td>4</td>\n",
       "    </tr>\n",
       "    <tr>\n",
       "      <th>98</th>\n",
       "      <td>2.202275</td>\n",
       "      <td>0.434200</td>\n",
       "      <td>0.129396</td>\n",
       "      <td>0.026413</td>\n",
       "      <td>15</td>\n",
       "      <td>5</td>\n",
       "      <td>2</td>\n",
       "      <td>300</td>\n",
       "      <td>{'max_depth': 15, 'max_features': 5, 'min_samp...</td>\n",
       "      <td>0.842105</td>\n",
       "      <td>0.907895</td>\n",
       "      <td>0.828947</td>\n",
       "      <td>0.802632</td>\n",
       "      <td>0.866667</td>\n",
       "      <td>0.849649</td>\n",
       "      <td>0.035716</td>\n",
       "      <td>4</td>\n",
       "    </tr>\n",
       "  </tbody>\n",
       "</table>\n",
       "</div>"
      ],
      "text/plain": [
       "     mean_fit_time  std_fit_time  mean_score_time  std_score_time  \\\n",
       "120       0.635498      0.021256         0.034603        0.003945   \n",
       "168       0.539736      0.039814         0.032195        0.004053   \n",
       "49        1.031917      0.051770         0.062002        0.002697   \n",
       "97        1.271402      0.285977         0.088584        0.026510   \n",
       "98        2.202275      0.434200         0.129396        0.026413   \n",
       "\n",
       "    param_max_depth param_max_features param_min_samples_split  \\\n",
       "120              15               auto                       2   \n",
       "168            None               auto                       2   \n",
       "49                8                  5                       2   \n",
       "97               15                  5                       2   \n",
       "98               15                  5                       2   \n",
       "\n",
       "    param_n_estimators                                             params  \\\n",
       "120                100  {'max_depth': 15, 'max_features': 'auto', 'min...   \n",
       "168                100  {'max_depth': None, 'max_features': 'auto', 'm...   \n",
       "49                 200  {'max_depth': 8, 'max_features': 5, 'min_sampl...   \n",
       "97                 200  {'max_depth': 15, 'max_features': 5, 'min_samp...   \n",
       "98                 300  {'max_depth': 15, 'max_features': 5, 'min_samp...   \n",
       "\n",
       "     split0_test_score  split1_test_score  split2_test_score  \\\n",
       "120           0.828947           0.921053           0.842105   \n",
       "168           0.828947           0.921053           0.842105   \n",
       "49            0.828947           0.921053           0.815789   \n",
       "97            0.842105           0.894737           0.828947   \n",
       "98            0.842105           0.907895           0.828947   \n",
       "\n",
       "     split3_test_score  split4_test_score  mean_test_score  std_test_score  \\\n",
       "120           0.828947           0.853333         0.854877        0.034320   \n",
       "168           0.828947           0.853333         0.854877        0.034320   \n",
       "49            0.802632           0.880000         0.849684        0.044284   \n",
       "97            0.815789           0.866667         0.849649        0.028123   \n",
       "98            0.802632           0.866667         0.849649        0.035716   \n",
       "\n",
       "     rank_test_score  \n",
       "120                1  \n",
       "168                1  \n",
       "49                 3  \n",
       "97                 4  \n",
       "98                 4  "
      ]
     },
     "execution_count": 80,
     "metadata": {},
     "output_type": "execute_result"
    }
   ],
   "source": [
    "df = df.sort_values('mean_test_score', ascending=False)\n",
    "df.head()"
   ]
  },
  {
   "cell_type": "code",
   "execution_count": 81,
   "id": "0bb51044",
   "metadata": {},
   "outputs": [
    {
     "name": "stderr",
     "output_type": "stream",
     "text": [
      "C:\\Users\\HP\\anaconda3\\lib\\site-packages\\sklearn\\ensemble\\_forest.py:424: FutureWarning: `max_features='auto'` has been deprecated in 1.1 and will be removed in 1.3. To keep the past behaviour, explicitly set `max_features='sqrt'` or remove this parameter as it is also the default value for RandomForestClassifiers and ExtraTreesClassifiers.\n",
      "  warn(\n"
     ]
    },
    {
     "name": "stdout",
     "output_type": "stream",
     "text": [
      "RF\n",
      "Model performance for Training set\n",
      "Accuracy: 1.0000\n",
      "F1 score: 1.0000\n",
      "Precision: 1.0000\n",
      "Recall: 1.0000\n",
      "ROC AUC score: 1.0000\n",
      "-----------------------------------------------\n",
      "Model performance for Test set\n",
      "Accuracy: 0.8712\n",
      "F1 score: 0.8709\n",
      "Precision: 0.8022\n",
      "Recall: 0.9605\n",
      "ROC AUC score: 0.8768\n",
      "===================================\n",
      "\n",
      "\n"
     ]
    }
   ],
   "source": [
    "# Developing the models for further evaluation\n",
    "\n",
    "# Defining the models\n",
    "models = {\n",
    "    \"RF\":RandomForestClassifier(max_depth= 15, max_features= 'auto', min_samples_split= 2, n_estimators= 100, random_state=42)\n",
    "}\n",
    "for i in range(len(list(models))):\n",
    "    model=list(models.values())[i]\n",
    "    model.fit(X_train, y_train) # Training the models\n",
    "    \n",
    "    # Making predictions\n",
    "    y_train_pred=model.predict(X_train)\n",
    "    y_test_pred=model.predict(X_test)\n",
    "    \n",
    "    # Training set performance\n",
    "    model_train_accuracy=accuracy_score(y_train, y_train_pred)\n",
    "    model_train_f1 = f1_score(y_train, y_train_pred, average='weighted')\n",
    "    model_train_precision = precision_score(y_train, y_train_pred)\n",
    "    model_train_recall = recall_score(y_train, y_train_pred)\n",
    "    model_train_rocauc_score = roc_auc_score(y_train, y_train_pred)\n",
    "    \n",
    "     # Test set performance\n",
    "    model_test_accuracy=accuracy_score(y_test, y_test_pred)\n",
    "    model_test_f1 = f1_score(y_test, y_test_pred, average='weighted')\n",
    "    model_test_precision = precision_score(y_test, y_test_pred)\n",
    "    model_test_recall = recall_score(y_test, y_test_pred)\n",
    "    model_test_rocauc_score = roc_auc_score(y_test, y_test_pred)\n",
    "    \n",
    "    # Displaying the evaluation values\n",
    "    print(list(models.keys())[i])\n",
    "    \n",
    "    print(\"Model performance for Training set\")\n",
    "    print(\"Accuracy: {:.4f}\" .format(model_train_accuracy))\n",
    "    print(\"F1 score: {:.4f}\" .format(model_train_f1))\n",
    "    print(\"Precision: {:.4f}\" .format(model_train_precision))\n",
    "    print(\"Recall: {:.4f}\" .format(model_train_recall))\n",
    "    print(\"ROC AUC score: {:.4f}\" .format(model_train_rocauc_score))\n",
    "    \n",
    "    print('-----------------------------------------------')\n",
    "    \n",
    "    print(\"Model performance for Test set\")\n",
    "    print(\"Accuracy: {:.4f}\" .format(model_test_accuracy))\n",
    "    print(\"F1 score: {:.4f}\" .format(model_test_f1))\n",
    "    print(\"Precision: {:.4f}\" .format(model_test_precision))\n",
    "    print(\"Recall: {:.4f}\" .format(model_test_recall))\n",
    "    print(\"ROC AUC score: {:.4f}\" .format(model_test_rocauc_score))\n",
    "    \n",
    "    \n",
    "    print('='*35)\n",
    "    print('\\n')"
   ]
  },
  {
   "cell_type": "code",
   "execution_count": 82,
   "id": "3199432d",
   "metadata": {
    "scrolled": false
   },
   "outputs": [
    {
     "data": {
      "text/plain": [
       "Text(0.5, 1.0, 'RF')"
      ]
     },
     "execution_count": 82,
     "metadata": {},
     "output_type": "execute_result"
    },
    {
     "data": {
      "image/png": "[encoded data removed]",
      "text/plain": [
       "<Figure size 640x480 with 2 Axes>"
      ]
     },
     "metadata": {},
     "output_type": "display_data"
    }
   ],
   "source": [
    "# Creating the confusion matrics for all classifiers' predictions\n",
    "\n",
    "# Importing the necessary libraries for visualization and creating the confusion metrics\n",
    "import matplotlib.pyplot as plt\n",
    "from sklearn.metrics import confusion_matrix\n",
    "from sklearn.metrics import confusion_matrix, ConfusionMatrixDisplay\n",
    "\n",
    "# Creating the confusion metrics for Random Forest\n",
    "cm = confusion_matrix(y_test, y_test_pred)\n",
    "disp = ConfusionMatrixDisplay(confusion_matrix=cm)\n",
    "disp.plot()\n",
    "plt.title(\"RF\")"
   ]
  },
  {
   "cell_type": "code",
   "execution_count": 83,
   "id": "4c4a568b",
   "metadata": {},
   "outputs": [
    {
     "data": {
      "image/png": "[encoded data removed]",
      "text/plain": [
       "<Figure size 640x480 with 1 Axes>"
      ]
     },
     "metadata": {},
     "output_type": "display_data"
    }
   ],
   "source": [
    "import sklearn.metrics as metrics\n",
    "# calculate the fpr and tpr for all thresholds of the classification\n",
    "probs = model.predict_proba(X_test)\n",
    "preds = probs[:,1]\n",
    "fpr, tpr, threshold = metrics.roc_curve(y_test, preds)\n",
    "roc_auc = metrics.auc(fpr, tpr)\n",
    "\n",
    "# Visualizing the AUC\n",
    "plt.title('Receiver Operating Characteristic')\n",
    "plt.plot(fpr, tpr, 'b', label = 'AUC = %0.2f' % roc_auc)\n",
    "plt.legend(loc = 'lower right')\n",
    "plt.plot([0, 1], [0, 1],'r--')\n",
    "plt.xlim([0, 1])\n",
    "plt.ylim([0, 1])\n",
    "plt.ylabel('True Positive Rate')\n",
    "plt.xlabel('False Positive Rate')\n",
    "plt.show()"
   ]
  },
  {
   "cell_type": "code",
   "execution_count": 84,
   "id": "8f44f06b",
   "metadata": {},
   "outputs": [
    {
     "name": "stderr",
     "output_type": "stream",
     "text": [
      "C:\\Users\\HP\\anaconda3\\lib\\site-packages\\sklearn\\ensemble\\_forest.py:424: FutureWarning: `max_features='auto'` has been deprecated in 1.1 and will be removed in 1.3. To keep the past behaviour, explicitly set `max_features='sqrt'` or remove this parameter as it is also the default value for RandomForestClassifiers and ExtraTreesClassifiers.\n",
      "  warn(\n"
     ]
    },
    {
     "data": {
      "image/png": "[encoded data removed]",
      "text/plain": [
       "<Figure size 640x480 with 1 Axes>"
      ]
     },
     "metadata": {},
     "output_type": "display_data"
    }
   ],
   "source": [
    "X = pd.DataFrame(X, columns=['Gender', 'Married', 'Dependents', 'Education',\n",
    "       'Self_Employed', 'ApplicantIncome', 'CoapplicantIncome', 'LoanAmount',\n",
    "       'Loan_Amount_Term', 'Credit_History', 'Property_Area'])\n",
    "feature_names = X.columns\n",
    "RF = RandomForestClassifier(max_depth= 15, max_features= 'auto', min_samples_split= 2, n_estimators= 100, random_state=42)\n",
    "RF.fit(X_train, y_train)\n",
    "importances = RF.feature_importances_\n",
    "\n",
    "RF_importances = pd.Series(importances, index=feature_names).sort_values()\n",
    "\n",
    "fig, ax = plt.subplots()\n",
    "RF_importances.plot.barh(ax=ax)\n",
    "ax.set_title(\"Feature importances using MDI\")\n",
    "ax.set_xlabel(\"Mean decrease in impurity\")\n",
    "fig.tight_layout()"
   ]
  },
  {
   "cell_type": "markdown",
   "id": "533485de",
   "metadata": {},
   "source": [
    "The first four important features that affect the outcome of loan status are Property_Area, ApplicantIncone, Credit_History, and LoanAmount. An applicant with a high chance of granted loan status has a property or properties in an urban area, applies for a sensible amount, and has a track record of taking loans and repaying on schedule."
   ]
  }
 ],
 "metadata": {
  "kernelspec": {
   "display_name": "Python 3 (ipykernel)",
   "language": "python",
   "name": "python3"
  },
  "language_info": {
   "codemirror_mode": {
    "name": "ipython",
    "version": 3
   },
   "file_extension": ".py",
   "mimetype": "text/x-python",
   "name": "python",
   "nbconvert_exporter": "python",
   "pygments_lexer": "ipython3",
   "version": "3.10.9"
  }
 },
 "nbformat": 4,
 "nbformat_minor": 5
}
